{
  "nbformat": 4,
  "nbformat_minor": 0,
  "metadata": {
    "colab": {
      "name": "TCC-COVID_UTI_HSL v5.ipynb",
      "provenance": [],
      "collapsed_sections": [],
      "authorship_tag": "ABX9TyMTTyfMv4EInNrueTDWtkG8",
      "include_colab_link": true
    },
    "kernelspec": {
      "name": "python3",
      "display_name": "Python 3"
    },
    "language_info": {
      "name": "python"
    }
  },
  "cells": [
    {
      "cell_type": "markdown",
      "metadata": {
        "id": "view-in-github",
        "colab_type": "text"
      },
      "source": [
        "<a href=\"https://colab.research.google.com/github/gcochlar/COVID19_Predict_ICU/blob/main/TCC_COVID_UTI_HSL_v5.ipynb\" target=\"_parent\"><img src=\"https://colab.research.google.com/assets/colab-badge.svg\" alt=\"Open In Colab\"/></a>"
      ]
    },
    {
      "cell_type": "markdown",
      "metadata": {
        "id": "-eA-tqSLcLt2"
      },
      "source": [
        "<img src='https://github.com/gcochlar/COVID19_Predict_ICU/raw/main/images/Banner_Bootcamp.png'>\n",
        "\n",
        "<img src='https://github.com/gcochlar/COVID19_Predict_ICU/raw/main/images/LogoHSL.png' width=99% height=35%>\n"
      ]
    },
    {
      "cell_type": "markdown",
      "metadata": {
        "id": "j0_PcHDDdnH0"
      },
      "source": [
        "# **COVID-19: ANÁLISE PREDITIVA DAS INTERNAÇÕES EM UTI NO HOSPITAL SÍRIO-LIBANÊS**"
      ]
    },
    {
      "cell_type": "markdown",
      "metadata": {
        "id": "VwvG7PqveGOb"
      },
      "source": [
        "## **ESTRUTURA DO PROJETO**\n",
        "---\n",
        "\n",
        "1. [CONTEXTO](#contexto)\n",
        "2. [AMBIENTE e DADOS](#dados)\n",
        "3. [LIMPEZA e PREPARAÇÃO DOS DADOS](#limpeza)\n",
        "4. [ANÁLISE EXPLORATÓRIA](#explora)\n",
        "5. [TESTES DE MODELOS](#testes)\n",
        "6. [APLICANDO O MELHOR MODELO](#melhor)\n",
        "7. [CONCLUSÃO e PRÓXIMOS PASSOS](#conclusao)\n",
        "8. [REFERÊNCIAS e DOCUMENTAÇÃO](#docs)"
      ]
    },
    {
      "cell_type": "markdown",
      "metadata": {
        "id": "qKSb_YHfeAJP"
      },
      "source": [
        "<a name='contexto'></a>\n",
        "## **1. CONTEXTO**\n",
        "---\n",
        "\n",
        "A epidemia de **COVID-19** tomou o mundo inteiro de surpresa, com especial efeito no sistema de saúde como um todo.\n",
        "\n",
        "A súbita escalada na demanda por atendimento médico exigiu uma resposta rápida por parte dos gestores, uma vez que as medidas de contenção de circulação das pessoas levariam algum tempo para surtir efeito.\n",
        "\n",
        "Nessa situação, os esforços para o \"achatamento da curva\" tinham como principal objetivo fazer com que o número de casos não ultrapassasse a estrutura existente e permitir que essa mesma estrutura fosse aumentada onde fosse mais necessária.\n",
        "\n",
        "<img src='https://github.com/gcochlar/COVID19_Predict_ICU/raw/main/images/CurvaCOVID.gif' allign='right'>\n",
        "\n",
        "Dentro dos diversos setores impactados, um dos mais críticos foi o das UTIs (Unidades de Terapia Intensiva). Além do aumento de casos, muitos pacientes infectados apresentaram necessidade de cuidados intensivos por mais tempo do que os hospitais estão habituados a oferecer.\n",
        "\n",
        "Além disso, diversos hospitais não tinham locais adequados para garantir as condições exigidas para a instalação de novos leitos especializados e, aqueles que tinham espaço disponível, tiveram dificuldades para encontrar os profissionais habilitados ou para obter os suprimentos necessários.\n",
        "\n",
        "Diante desse cenário, a necessidade de melhor prever a possibilidade de internações em UTIs para permitir o planejamento de ocupação e redirecionamento de pacientes cresceu exponencialmente.\n",
        "\n",
        "O **Hospital Sírio-Libanês**, através de sua equipe de *Data Science*, trabalhou para montar um modelo de predição de necessidade de leitos de UTI com base nos dados clínicos dos pacientes admitidos com confirmação de **COVID-19**.\n",
        "\n",
        "Esse time recebeu duas tarefas a serem cumpridas e esse desafio foi compartilhado no ***Kaggle***, plataforma que reúne a comunidade de *data scientists* e *machine learners* para troca de experiências.\n",
        "\n",
        "&nbsp;\n",
        "\n",
        "**TAREFA 1:** Prever a internação em UTI de casos confirmados de **COVID-19**.\n",
        "\n",
        "Baseado nos dados disponíveis, é factível prever quais pacientes irão necessitar de internação na unidade de tratamento intensivo? O objetivo é disponibilizar ao hospital e parceiros respostas o mais acuradas possíveis para que os recursos de UTI sejam providenciados ou a transferência do paciente seja agendada.\n",
        "\n",
        ">>**TASK 1:** *Predict admission to the ICU of confirmed COVID-19 cases.*\n",
        ">>\n",
        ">>*Based on the data available, is it feasible to predict which patients will need intensive care unit support?\n",
        "The aim is to provide tertiary and quarternary hospitals with the most accurate answer, so ICU resources can be arranged or patient transfer can be scheduled.*\n",
        "\n",
        "&nbsp;\n",
        "\n",
        "**TAREFA 2:** Prever a **NÃO** internação em UTI de casos confirmados de **COVID-19**.\n",
        "\n",
        "Baseado nos dados disponíveis, é factível prever quais pacientes irão necessitar de internação na unidade de tratamento intensivo? O objetivo é disponibilizar para hospitais locais e temporários uma resposta suficiente, para que médicos da linha de frente possam dispensar esses pacientes e fazer acompanhamento remoto de sua evolução.\n",
        "\n",
        "\n",
        ">>**TASK 2:** *Predict **NOT** admission to the ICU of confirmed COVID-19 cases.*\n",
        ">>\n",
        ">>*Based on the subsample of widely available data, is it feasible to predict which patients will need intensive care unit support?\n",
        "The aim is to provide local and temporary hospitals a good enough answer, so frontline physicians can safely discharge and remotely follow up with these patients.*\n",
        "\n",
        "&nbsp;\n",
        "\n",
        "## **É em cima desse desafio proposto e suas tarefas que o presente estudo foi baseado.**"
      ]
    },
    {
      "cell_type": "markdown",
      "metadata": {
        "id": "CAonnk74Nq_3"
      },
      "source": [
        "<a name='dados'></a>\n",
        "## **2. AMBIENTE e DADOS**\n",
        "---\n",
        "\n",
        "Os dados a serem utilizados foram disponibilizados na plataforma [Kaggle](https://www.kaggle.com), em página específica para o desafio ([aqui](https://www.kaggle.com/S%C3%ADrio-Libanes/covid19/)).\n",
        "\n",
        "Para garantir a reprodutibilidade do estudo, caso os dados sejam alterados, os mesmos foram colocados no presente repositório do **GitHub**, de onde serão importados para serem trabalhados e analisados.\n",
        "\n",
        "Vamos começar importando todas as bibliotecas que serão necessárias bem como o *dataset* originalmente disponibilizado.\n",
        "\n",
        "**$\\color{red}{\\text{IMPORTANTE:}}$** Esse notebook faz uso de funções disponibilizadas a partir da versão 3.4.2 da biblioteca **`matplotlib`**, que ainda não é a versão padrão utilizada no **Google Colab**. Por isso, caso identifique que a versão presentemente instalada é inferior à necessária, o notebook irá fazer a atualização, mas será necessário reinicializar a máquina virtual e pedir para **$\\color{red}{\\text{rodar novamente o notebook!!!}}$**"
      ]
    },
    {
      "cell_type": "code",
      "metadata": {
        "id": "wZyg0y9kjnAf"
      },
      "source": [
        "import matplotlib\n",
        "versao_mtplt = matplotlib.__version__\n",
        "versao_minima = '3.4.2'\n",
        "\n",
        "if versao_mtplt < versao_minima:\n",
        "    !pip install matplotlib --upgrade\n",
        "    for _ in range(1,6):\n",
        "        print('Atualizado a versão do matplotlib!')\n",
        "        print('Reinicie o ambiente e rode o notebook novamente!!!')"
      ],
      "execution_count": 1,
      "outputs": []
    },
    {
      "cell_type": "code",
      "metadata": {
        "id": "u5ztqZrn8fT5",
        "colab": {
          "base_uri": "https://localhost:8080/"
        },
        "outputId": "2592d88b-758d-430d-889f-50b3a443023b"
      },
      "source": [
        "## IMPORTANDO AS BIBLIOTECAS\n",
        "\n",
        "import pandas as pd\n",
        "import numpy as np\n",
        "import matplotlib as mpl\n",
        "import matplotlib.pyplot as plt\n",
        "import matplotlib.ticker as ticker\n",
        "import seaborn as sns\n",
        "\n",
        "from scipy.stats import randint\n",
        "\n",
        "from sklearn import preprocessing\n",
        "from sklearn.model_selection import train_test_split\n",
        "from sklearn.linear_model import LogisticRegression\n",
        "from sklearn.dummy import DummyClassifier\n",
        "from sklearn.tree import DecisionTreeClassifier\n",
        "from sklearn.ensemble import ExtraTreesClassifier\n",
        "from sklearn.ensemble import RandomForestClassifier\n",
        "from sklearn.tree import plot_tree\n",
        "\n",
        "from sklearn.utils.testing import ignore_warnings\n",
        "from sklearn.exceptions import ConvergenceWarning\n",
        "\n",
        "from sklearn.model_selection import cross_validate\n",
        "from sklearn.model_selection import StratifiedKFold\n",
        "from sklearn.model_selection import RepeatedStratifiedKFold\n",
        "from sklearn.model_selection import StratifiedShuffleSplit\n",
        "from sklearn.model_selection import RandomizedSearchCV\n",
        "\n",
        "#from sklearn.tree import export_graphviz\n",
        "#from sklearn.tree import export_text\n",
        "#import graphviz\n",
        "\n",
        "from sklearn.metrics import classification_report\n",
        "from sklearn.metrics import accuracy_score\n",
        "from sklearn.metrics import plot_confusion_matrix\n",
        "from sklearn.metrics import roc_auc_score\n",
        "from sklearn.metrics import roc_curve, plot_roc_curve\n",
        "\n",
        "import warnings\n",
        "warnings.simplefilter(action='ignore', category=FutureWarning)\n",
        "pd.options.mode.chained_assignment = None\n",
        "mpl.rcParams['figure.figsize'] = (12,6)"
      ],
      "execution_count": 2,
      "outputs": [
        {
          "output_type": "stream",
          "text": [
            "/usr/local/lib/python3.7/dist-packages/sklearn/utils/deprecation.py:144: FutureWarning: The sklearn.utils.testing module is  deprecated in version 0.22 and will be removed in version 0.24. The corresponding classes / functions should instead be imported from sklearn.utils. Anything that cannot be imported from sklearn.utils is now part of the private API.\n",
            "  warnings.warn(message, FutureWarning)\n"
          ],
          "name": "stderr"
        }
      ]
    },
    {
      "cell_type": "code",
      "metadata": {
        "id": "9KGKD9A38z6t",
        "colab": {
          "base_uri": "https://localhost:8080/",
          "height": 287
        },
        "outputId": "3c58267f-1827-4748-ce87-abb9cabdb0d8"
      },
      "source": [
        "## IMPORTANDO OS DADOS\n",
        "\n",
        "url = 'https://github.com/gcochlar/COVID19_Predict_ICU/blob/main/data/Kaggle_Sirio_Libanes_ICU_Prediction.xlsx?raw=true'\n",
        "\n",
        "dados_brutos = pd.read_excel(url)\n",
        "dados = dados_brutos.copy()\n",
        "dados.head()"
      ],
      "execution_count": 3,
      "outputs": [
        {
          "output_type": "execute_result",
          "data": {
            "text/html": [
              "<div>\n",
              "<style scoped>\n",
              "    .dataframe tbody tr th:only-of-type {\n",
              "        vertical-align: middle;\n",
              "    }\n",
              "\n",
              "    .dataframe tbody tr th {\n",
              "        vertical-align: top;\n",
              "    }\n",
              "\n",
              "    .dataframe thead th {\n",
              "        text-align: right;\n",
              "    }\n",
              "</style>\n",
              "<table border=\"1\" class=\"dataframe\">\n",
              "  <thead>\n",
              "    <tr style=\"text-align: right;\">\n",
              "      <th></th>\n",
              "      <th>PATIENT_VISIT_IDENTIFIER</th>\n",
              "      <th>AGE_ABOVE65</th>\n",
              "      <th>AGE_PERCENTIL</th>\n",
              "      <th>GENDER</th>\n",
              "      <th>DISEASE GROUPING 1</th>\n",
              "      <th>DISEASE GROUPING 2</th>\n",
              "      <th>DISEASE GROUPING 3</th>\n",
              "      <th>DISEASE GROUPING 4</th>\n",
              "      <th>DISEASE GROUPING 5</th>\n",
              "      <th>DISEASE GROUPING 6</th>\n",
              "      <th>HTN</th>\n",
              "      <th>IMMUNOCOMPROMISED</th>\n",
              "      <th>OTHER</th>\n",
              "      <th>ALBUMIN_MEDIAN</th>\n",
              "      <th>ALBUMIN_MEAN</th>\n",
              "      <th>ALBUMIN_MIN</th>\n",
              "      <th>ALBUMIN_MAX</th>\n",
              "      <th>ALBUMIN_DIFF</th>\n",
              "      <th>BE_ARTERIAL_MEDIAN</th>\n",
              "      <th>BE_ARTERIAL_MEAN</th>\n",
              "      <th>BE_ARTERIAL_MIN</th>\n",
              "      <th>BE_ARTERIAL_MAX</th>\n",
              "      <th>BE_ARTERIAL_DIFF</th>\n",
              "      <th>BE_VENOUS_MEDIAN</th>\n",
              "      <th>BE_VENOUS_MEAN</th>\n",
              "      <th>BE_VENOUS_MIN</th>\n",
              "      <th>BE_VENOUS_MAX</th>\n",
              "      <th>BE_VENOUS_DIFF</th>\n",
              "      <th>BIC_ARTERIAL_MEDIAN</th>\n",
              "      <th>BIC_ARTERIAL_MEAN</th>\n",
              "      <th>BIC_ARTERIAL_MIN</th>\n",
              "      <th>BIC_ARTERIAL_MAX</th>\n",
              "      <th>BIC_ARTERIAL_DIFF</th>\n",
              "      <th>BIC_VENOUS_MEDIAN</th>\n",
              "      <th>BIC_VENOUS_MEAN</th>\n",
              "      <th>BIC_VENOUS_MIN</th>\n",
              "      <th>BIC_VENOUS_MAX</th>\n",
              "      <th>BIC_VENOUS_DIFF</th>\n",
              "      <th>BILLIRUBIN_MEDIAN</th>\n",
              "      <th>BILLIRUBIN_MEAN</th>\n",
              "      <th>...</th>\n",
              "      <th>DIMER_MAX</th>\n",
              "      <th>DIMER_DIFF</th>\n",
              "      <th>BLOODPRESSURE_DIASTOLIC_MEAN</th>\n",
              "      <th>BLOODPRESSURE_SISTOLIC_MEAN</th>\n",
              "      <th>HEART_RATE_MEAN</th>\n",
              "      <th>RESPIRATORY_RATE_MEAN</th>\n",
              "      <th>TEMPERATURE_MEAN</th>\n",
              "      <th>OXYGEN_SATURATION_MEAN</th>\n",
              "      <th>BLOODPRESSURE_DIASTOLIC_MEDIAN</th>\n",
              "      <th>BLOODPRESSURE_SISTOLIC_MEDIAN</th>\n",
              "      <th>HEART_RATE_MEDIAN</th>\n",
              "      <th>RESPIRATORY_RATE_MEDIAN</th>\n",
              "      <th>TEMPERATURE_MEDIAN</th>\n",
              "      <th>OXYGEN_SATURATION_MEDIAN</th>\n",
              "      <th>BLOODPRESSURE_DIASTOLIC_MIN</th>\n",
              "      <th>BLOODPRESSURE_SISTOLIC_MIN</th>\n",
              "      <th>HEART_RATE_MIN</th>\n",
              "      <th>RESPIRATORY_RATE_MIN</th>\n",
              "      <th>TEMPERATURE_MIN</th>\n",
              "      <th>OXYGEN_SATURATION_MIN</th>\n",
              "      <th>BLOODPRESSURE_DIASTOLIC_MAX</th>\n",
              "      <th>BLOODPRESSURE_SISTOLIC_MAX</th>\n",
              "      <th>HEART_RATE_MAX</th>\n",
              "      <th>RESPIRATORY_RATE_MAX</th>\n",
              "      <th>TEMPERATURE_MAX</th>\n",
              "      <th>OXYGEN_SATURATION_MAX</th>\n",
              "      <th>BLOODPRESSURE_DIASTOLIC_DIFF</th>\n",
              "      <th>BLOODPRESSURE_SISTOLIC_DIFF</th>\n",
              "      <th>HEART_RATE_DIFF</th>\n",
              "      <th>RESPIRATORY_RATE_DIFF</th>\n",
              "      <th>TEMPERATURE_DIFF</th>\n",
              "      <th>OXYGEN_SATURATION_DIFF</th>\n",
              "      <th>BLOODPRESSURE_DIASTOLIC_DIFF_REL</th>\n",
              "      <th>BLOODPRESSURE_SISTOLIC_DIFF_REL</th>\n",
              "      <th>HEART_RATE_DIFF_REL</th>\n",
              "      <th>RESPIRATORY_RATE_DIFF_REL</th>\n",
              "      <th>TEMPERATURE_DIFF_REL</th>\n",
              "      <th>OXYGEN_SATURATION_DIFF_REL</th>\n",
              "      <th>WINDOW</th>\n",
              "      <th>ICU</th>\n",
              "    </tr>\n",
              "  </thead>\n",
              "  <tbody>\n",
              "    <tr>\n",
              "      <th>0</th>\n",
              "      <td>0</td>\n",
              "      <td>1</td>\n",
              "      <td>60th</td>\n",
              "      <td>0</td>\n",
              "      <td>0.0</td>\n",
              "      <td>0.0</td>\n",
              "      <td>0.0</td>\n",
              "      <td>0.0</td>\n",
              "      <td>1.0</td>\n",
              "      <td>1.0</td>\n",
              "      <td>0.0</td>\n",
              "      <td>0.0</td>\n",
              "      <td>1.0</td>\n",
              "      <td>NaN</td>\n",
              "      <td>NaN</td>\n",
              "      <td>NaN</td>\n",
              "      <td>NaN</td>\n",
              "      <td>NaN</td>\n",
              "      <td>NaN</td>\n",
              "      <td>NaN</td>\n",
              "      <td>NaN</td>\n",
              "      <td>NaN</td>\n",
              "      <td>NaN</td>\n",
              "      <td>NaN</td>\n",
              "      <td>NaN</td>\n",
              "      <td>NaN</td>\n",
              "      <td>NaN</td>\n",
              "      <td>NaN</td>\n",
              "      <td>NaN</td>\n",
              "      <td>NaN</td>\n",
              "      <td>NaN</td>\n",
              "      <td>NaN</td>\n",
              "      <td>NaN</td>\n",
              "      <td>NaN</td>\n",
              "      <td>NaN</td>\n",
              "      <td>NaN</td>\n",
              "      <td>NaN</td>\n",
              "      <td>NaN</td>\n",
              "      <td>NaN</td>\n",
              "      <td>NaN</td>\n",
              "      <td>...</td>\n",
              "      <td>NaN</td>\n",
              "      <td>NaN</td>\n",
              "      <td>0.086420</td>\n",
              "      <td>-0.230769</td>\n",
              "      <td>-0.283019</td>\n",
              "      <td>-0.593220</td>\n",
              "      <td>-0.285714</td>\n",
              "      <td>0.736842</td>\n",
              "      <td>0.086420</td>\n",
              "      <td>-0.230769</td>\n",
              "      <td>-0.283019</td>\n",
              "      <td>-0.586207</td>\n",
              "      <td>-0.285714</td>\n",
              "      <td>0.736842</td>\n",
              "      <td>0.237113</td>\n",
              "      <td>0.0000</td>\n",
              "      <td>-0.162393</td>\n",
              "      <td>-0.500000</td>\n",
              "      <td>0.208791</td>\n",
              "      <td>0.898990</td>\n",
              "      <td>-0.247863</td>\n",
              "      <td>-0.459459</td>\n",
              "      <td>-0.432836</td>\n",
              "      <td>-0.636364</td>\n",
              "      <td>-0.420290</td>\n",
              "      <td>0.736842</td>\n",
              "      <td>-1.00000</td>\n",
              "      <td>-1.000000</td>\n",
              "      <td>-1.000000</td>\n",
              "      <td>-1.000000</td>\n",
              "      <td>-1.000000</td>\n",
              "      <td>-1.000000</td>\n",
              "      <td>-1.000000</td>\n",
              "      <td>-1.000000</td>\n",
              "      <td>-1.000000</td>\n",
              "      <td>-1.000000</td>\n",
              "      <td>-1.000000</td>\n",
              "      <td>-1.000000</td>\n",
              "      <td>0-2</td>\n",
              "      <td>0</td>\n",
              "    </tr>\n",
              "    <tr>\n",
              "      <th>1</th>\n",
              "      <td>0</td>\n",
              "      <td>1</td>\n",
              "      <td>60th</td>\n",
              "      <td>0</td>\n",
              "      <td>0.0</td>\n",
              "      <td>0.0</td>\n",
              "      <td>0.0</td>\n",
              "      <td>0.0</td>\n",
              "      <td>1.0</td>\n",
              "      <td>1.0</td>\n",
              "      <td>0.0</td>\n",
              "      <td>0.0</td>\n",
              "      <td>1.0</td>\n",
              "      <td>NaN</td>\n",
              "      <td>NaN</td>\n",
              "      <td>NaN</td>\n",
              "      <td>NaN</td>\n",
              "      <td>NaN</td>\n",
              "      <td>NaN</td>\n",
              "      <td>NaN</td>\n",
              "      <td>NaN</td>\n",
              "      <td>NaN</td>\n",
              "      <td>NaN</td>\n",
              "      <td>NaN</td>\n",
              "      <td>NaN</td>\n",
              "      <td>NaN</td>\n",
              "      <td>NaN</td>\n",
              "      <td>NaN</td>\n",
              "      <td>NaN</td>\n",
              "      <td>NaN</td>\n",
              "      <td>NaN</td>\n",
              "      <td>NaN</td>\n",
              "      <td>NaN</td>\n",
              "      <td>NaN</td>\n",
              "      <td>NaN</td>\n",
              "      <td>NaN</td>\n",
              "      <td>NaN</td>\n",
              "      <td>NaN</td>\n",
              "      <td>NaN</td>\n",
              "      <td>NaN</td>\n",
              "      <td>...</td>\n",
              "      <td>NaN</td>\n",
              "      <td>NaN</td>\n",
              "      <td>0.333333</td>\n",
              "      <td>-0.230769</td>\n",
              "      <td>-0.132075</td>\n",
              "      <td>-0.593220</td>\n",
              "      <td>0.535714</td>\n",
              "      <td>0.578947</td>\n",
              "      <td>0.333333</td>\n",
              "      <td>-0.230769</td>\n",
              "      <td>-0.132075</td>\n",
              "      <td>-0.586207</td>\n",
              "      <td>0.535714</td>\n",
              "      <td>0.578947</td>\n",
              "      <td>0.443299</td>\n",
              "      <td>0.0000</td>\n",
              "      <td>-0.025641</td>\n",
              "      <td>-0.500000</td>\n",
              "      <td>0.714286</td>\n",
              "      <td>0.838384</td>\n",
              "      <td>-0.076923</td>\n",
              "      <td>-0.459459</td>\n",
              "      <td>-0.313433</td>\n",
              "      <td>-0.636364</td>\n",
              "      <td>0.246377</td>\n",
              "      <td>0.578947</td>\n",
              "      <td>-1.00000</td>\n",
              "      <td>-1.000000</td>\n",
              "      <td>-1.000000</td>\n",
              "      <td>-1.000000</td>\n",
              "      <td>-1.000000</td>\n",
              "      <td>-1.000000</td>\n",
              "      <td>-1.000000</td>\n",
              "      <td>-1.000000</td>\n",
              "      <td>-1.000000</td>\n",
              "      <td>-1.000000</td>\n",
              "      <td>-1.000000</td>\n",
              "      <td>-1.000000</td>\n",
              "      <td>2-4</td>\n",
              "      <td>0</td>\n",
              "    </tr>\n",
              "    <tr>\n",
              "      <th>2</th>\n",
              "      <td>0</td>\n",
              "      <td>1</td>\n",
              "      <td>60th</td>\n",
              "      <td>0</td>\n",
              "      <td>0.0</td>\n",
              "      <td>0.0</td>\n",
              "      <td>0.0</td>\n",
              "      <td>0.0</td>\n",
              "      <td>1.0</td>\n",
              "      <td>1.0</td>\n",
              "      <td>0.0</td>\n",
              "      <td>0.0</td>\n",
              "      <td>1.0</td>\n",
              "      <td>0.605263</td>\n",
              "      <td>0.605263</td>\n",
              "      <td>0.605263</td>\n",
              "      <td>0.605263</td>\n",
              "      <td>-1.0</td>\n",
              "      <td>-1.000000</td>\n",
              "      <td>-1.000000</td>\n",
              "      <td>-1.000000</td>\n",
              "      <td>-1.000000</td>\n",
              "      <td>-1.0</td>\n",
              "      <td>-1.000000</td>\n",
              "      <td>-1.000000</td>\n",
              "      <td>-1.000000</td>\n",
              "      <td>-1.000000</td>\n",
              "      <td>-1.0</td>\n",
              "      <td>-0.317073</td>\n",
              "      <td>-0.317073</td>\n",
              "      <td>-0.317073</td>\n",
              "      <td>-0.317073</td>\n",
              "      <td>-1.0</td>\n",
              "      <td>-0.317073</td>\n",
              "      <td>-0.317073</td>\n",
              "      <td>-0.317073</td>\n",
              "      <td>-0.317073</td>\n",
              "      <td>-1.0</td>\n",
              "      <td>-0.938950</td>\n",
              "      <td>-0.938950</td>\n",
              "      <td>...</td>\n",
              "      <td>-0.994912</td>\n",
              "      <td>-1.0</td>\n",
              "      <td>NaN</td>\n",
              "      <td>NaN</td>\n",
              "      <td>NaN</td>\n",
              "      <td>NaN</td>\n",
              "      <td>NaN</td>\n",
              "      <td>NaN</td>\n",
              "      <td>NaN</td>\n",
              "      <td>NaN</td>\n",
              "      <td>NaN</td>\n",
              "      <td>NaN</td>\n",
              "      <td>NaN</td>\n",
              "      <td>NaN</td>\n",
              "      <td>NaN</td>\n",
              "      <td>NaN</td>\n",
              "      <td>NaN</td>\n",
              "      <td>NaN</td>\n",
              "      <td>NaN</td>\n",
              "      <td>NaN</td>\n",
              "      <td>NaN</td>\n",
              "      <td>NaN</td>\n",
              "      <td>NaN</td>\n",
              "      <td>NaN</td>\n",
              "      <td>NaN</td>\n",
              "      <td>NaN</td>\n",
              "      <td>NaN</td>\n",
              "      <td>NaN</td>\n",
              "      <td>NaN</td>\n",
              "      <td>NaN</td>\n",
              "      <td>NaN</td>\n",
              "      <td>NaN</td>\n",
              "      <td>NaN</td>\n",
              "      <td>NaN</td>\n",
              "      <td>NaN</td>\n",
              "      <td>NaN</td>\n",
              "      <td>NaN</td>\n",
              "      <td>NaN</td>\n",
              "      <td>4-6</td>\n",
              "      <td>0</td>\n",
              "    </tr>\n",
              "    <tr>\n",
              "      <th>3</th>\n",
              "      <td>0</td>\n",
              "      <td>1</td>\n",
              "      <td>60th</td>\n",
              "      <td>0</td>\n",
              "      <td>0.0</td>\n",
              "      <td>0.0</td>\n",
              "      <td>0.0</td>\n",
              "      <td>0.0</td>\n",
              "      <td>1.0</td>\n",
              "      <td>1.0</td>\n",
              "      <td>0.0</td>\n",
              "      <td>0.0</td>\n",
              "      <td>1.0</td>\n",
              "      <td>NaN</td>\n",
              "      <td>NaN</td>\n",
              "      <td>NaN</td>\n",
              "      <td>NaN</td>\n",
              "      <td>NaN</td>\n",
              "      <td>NaN</td>\n",
              "      <td>NaN</td>\n",
              "      <td>NaN</td>\n",
              "      <td>NaN</td>\n",
              "      <td>NaN</td>\n",
              "      <td>NaN</td>\n",
              "      <td>NaN</td>\n",
              "      <td>NaN</td>\n",
              "      <td>NaN</td>\n",
              "      <td>NaN</td>\n",
              "      <td>NaN</td>\n",
              "      <td>NaN</td>\n",
              "      <td>NaN</td>\n",
              "      <td>NaN</td>\n",
              "      <td>NaN</td>\n",
              "      <td>NaN</td>\n",
              "      <td>NaN</td>\n",
              "      <td>NaN</td>\n",
              "      <td>NaN</td>\n",
              "      <td>NaN</td>\n",
              "      <td>NaN</td>\n",
              "      <td>NaN</td>\n",
              "      <td>...</td>\n",
              "      <td>NaN</td>\n",
              "      <td>NaN</td>\n",
              "      <td>NaN</td>\n",
              "      <td>NaN</td>\n",
              "      <td>NaN</td>\n",
              "      <td>NaN</td>\n",
              "      <td>-0.107143</td>\n",
              "      <td>0.736842</td>\n",
              "      <td>NaN</td>\n",
              "      <td>NaN</td>\n",
              "      <td>NaN</td>\n",
              "      <td>NaN</td>\n",
              "      <td>-0.107143</td>\n",
              "      <td>0.736842</td>\n",
              "      <td>NaN</td>\n",
              "      <td>NaN</td>\n",
              "      <td>NaN</td>\n",
              "      <td>NaN</td>\n",
              "      <td>0.318681</td>\n",
              "      <td>0.898990</td>\n",
              "      <td>NaN</td>\n",
              "      <td>NaN</td>\n",
              "      <td>NaN</td>\n",
              "      <td>NaN</td>\n",
              "      <td>-0.275362</td>\n",
              "      <td>0.736842</td>\n",
              "      <td>NaN</td>\n",
              "      <td>NaN</td>\n",
              "      <td>NaN</td>\n",
              "      <td>NaN</td>\n",
              "      <td>-1.000000</td>\n",
              "      <td>-1.000000</td>\n",
              "      <td>NaN</td>\n",
              "      <td>NaN</td>\n",
              "      <td>NaN</td>\n",
              "      <td>NaN</td>\n",
              "      <td>-1.000000</td>\n",
              "      <td>-1.000000</td>\n",
              "      <td>6-12</td>\n",
              "      <td>0</td>\n",
              "    </tr>\n",
              "    <tr>\n",
              "      <th>4</th>\n",
              "      <td>0</td>\n",
              "      <td>1</td>\n",
              "      <td>60th</td>\n",
              "      <td>0</td>\n",
              "      <td>0.0</td>\n",
              "      <td>0.0</td>\n",
              "      <td>0.0</td>\n",
              "      <td>0.0</td>\n",
              "      <td>1.0</td>\n",
              "      <td>1.0</td>\n",
              "      <td>0.0</td>\n",
              "      <td>0.0</td>\n",
              "      <td>1.0</td>\n",
              "      <td>0.000000</td>\n",
              "      <td>0.000000</td>\n",
              "      <td>0.000000</td>\n",
              "      <td>0.000000</td>\n",
              "      <td>-1.0</td>\n",
              "      <td>-0.871658</td>\n",
              "      <td>-0.871658</td>\n",
              "      <td>-0.871658</td>\n",
              "      <td>-0.871658</td>\n",
              "      <td>-1.0</td>\n",
              "      <td>-0.863874</td>\n",
              "      <td>-0.863874</td>\n",
              "      <td>-0.863874</td>\n",
              "      <td>-0.863874</td>\n",
              "      <td>-1.0</td>\n",
              "      <td>-0.317073</td>\n",
              "      <td>-0.317073</td>\n",
              "      <td>-0.317073</td>\n",
              "      <td>-0.317073</td>\n",
              "      <td>-1.0</td>\n",
              "      <td>-0.414634</td>\n",
              "      <td>-0.414634</td>\n",
              "      <td>-0.414634</td>\n",
              "      <td>-0.414634</td>\n",
              "      <td>-1.0</td>\n",
              "      <td>-0.979069</td>\n",
              "      <td>-0.979069</td>\n",
              "      <td>...</td>\n",
              "      <td>-0.996762</td>\n",
              "      <td>-1.0</td>\n",
              "      <td>-0.243021</td>\n",
              "      <td>-0.338537</td>\n",
              "      <td>-0.213031</td>\n",
              "      <td>-0.317859</td>\n",
              "      <td>0.033779</td>\n",
              "      <td>0.665932</td>\n",
              "      <td>-0.283951</td>\n",
              "      <td>-0.376923</td>\n",
              "      <td>-0.188679</td>\n",
              "      <td>-0.379310</td>\n",
              "      <td>0.035714</td>\n",
              "      <td>0.631579</td>\n",
              "      <td>-0.340206</td>\n",
              "      <td>-0.4875</td>\n",
              "      <td>-0.572650</td>\n",
              "      <td>-0.857143</td>\n",
              "      <td>0.098901</td>\n",
              "      <td>0.797980</td>\n",
              "      <td>-0.076923</td>\n",
              "      <td>0.286486</td>\n",
              "      <td>0.298507</td>\n",
              "      <td>0.272727</td>\n",
              "      <td>0.362319</td>\n",
              "      <td>0.947368</td>\n",
              "      <td>-0.33913</td>\n",
              "      <td>0.325153</td>\n",
              "      <td>0.114504</td>\n",
              "      <td>0.176471</td>\n",
              "      <td>-0.238095</td>\n",
              "      <td>-0.818182</td>\n",
              "      <td>-0.389967</td>\n",
              "      <td>0.407558</td>\n",
              "      <td>-0.230462</td>\n",
              "      <td>0.096774</td>\n",
              "      <td>-0.242282</td>\n",
              "      <td>-0.814433</td>\n",
              "      <td>ABOVE_12</td>\n",
              "      <td>1</td>\n",
              "    </tr>\n",
              "  </tbody>\n",
              "</table>\n",
              "<p>5 rows × 231 columns</p>\n",
              "</div>"
            ],
            "text/plain": [
              "   PATIENT_VISIT_IDENTIFIER  AGE_ABOVE65  ...    WINDOW  ICU\n",
              "0                         0            1  ...       0-2    0\n",
              "1                         0            1  ...       2-4    0\n",
              "2                         0            1  ...       4-6    0\n",
              "3                         0            1  ...      6-12    0\n",
              "4                         0            1  ...  ABOVE_12    1\n",
              "\n",
              "[5 rows x 231 columns]"
            ]
          },
          "metadata": {
            "tags": []
          },
          "execution_count": 3
        }
      ]
    },
    {
      "cell_type": "markdown",
      "metadata": {
        "id": "LffKX4QjbklK"
      },
      "source": [
        "<a name='limpeza'></a>\n",
        "## **3. LIMPEZA e PREPARAÇÃO DOS DADOS**\n",
        "---\n",
        "\n",
        "A documentação a respeito da estrutura do *dataset* pode ser encontrada [aqui](https://www.kaggle.com/S%C3%ADrio-Libanes/covid19/).\n",
        "\n",
        "A estrutura encontrada pode ser assim descrita:\n",
        "* Identificação do paciente e janela de medição dos sinais (2 variáveis)\n",
        "* Informações Demográficas (3 variáveis)\n",
        "* Grupos de Doenças Prévias (9 variáveis)\n",
        "* Resultados de Exames de Sangue (36 variáveis)\n",
        "* Sinais Vitais (6 variáveis)\n",
        "* Indicação de Internação em UTI (variável resultado)\n",
        "\n",
        "As 42 variáveis contínuas (exames de sangue e sinais vitais) já foram normalizadas para apresentar resultados entre -1 e 1 e contam com colunas com valores estatísticos (*mean*, *median*, *max*, *min*, *diff* e *relative diff*), pois podemos ter mais de uma medição dentro de uma mesma janela horária.\n",
        "\n",
        "A janela de medição dos sinais agrupa o conjunto de medições feitas para um paciente, o que contribui para a anonimização dos dados. Estão distribuídas da seguinte forma:\n",
        "* '0-2' : Até 2 horas após a admissão do paciente\n",
        "* '2-4' : Entre 2 e 4 horas da admissão do paciente\n",
        "* '4-6' : Entre 4 e 6 horas da admissão do paciente\n",
        "* '6-12': Entre 6 e 12 horas da admissão do paciente\n",
        "* 'Above-12' : Acima de 12 horas após a admissão do paciente\n",
        "\n",
        "A documentação informa ainda que os dados nas janelas de medição em que tivermos **`'ICU' = 1`**, ou seja, o paciente está na UTI, deverão ser desprezados, pois a medição pode ter ocorrido depois da transferência, perdendo seu efeito preditivo.\n",
        "\n",
        "<img src='https://github.com/gcochlar/COVID19_Predict_ICU/raw/main/images/windows_0.png'>\n",
        "\n",
        "<img src='https://github.com/gcochlar/COVID19_Predict_ICU/raw/main/images/windows_1.png'>\n",
        "\n",
        "Vamos começar a preparação dos dados para que os modelos de *Machine Learning* possam ser aplicados."
      ]
    },
    {
      "cell_type": "markdown",
      "metadata": {
        "id": "0eNwsbcLK31J"
      },
      "source": [
        "Primeiramente vamos transformar a variável `AGE_PERCENTIL` em categórica numérica, para poder ser utilizada pelos modelos.\n",
        "\n",
        "Depois iremos criar a coluna `ICU_Final`, que vai ser o **Y** do nosso modelo. Essa coluna identifica os pacientes que, em algum momento, tiveram que ser transferidos para a UTI."
      ]
    },
    {
      "cell_type": "code",
      "metadata": {
        "id": "sp2WcrQ19gr4"
      },
      "source": [
        "## TRANSFORMA AGE_PERCENTIL\n",
        "le = preprocessing.LabelEncoder()\n",
        "dados.AGE_PERCENTIL = le.fit_transform(dados.AGE_PERCENTIL)\n",
        "\n",
        "## CRIA ICU_final\n",
        "lista_icu = dados[['PATIENT_VISIT_IDENTIFIER','ICU']].groupby('PATIENT_VISIT_IDENTIFIER').max()\n",
        "lista_icu.columns = ['ICU_final']\n",
        "\n",
        "dados = pd.merge(dados, lista_icu, how='left', left_on='PATIENT_VISIT_IDENTIFIER', right_on='PATIENT_VISIT_IDENTIFIER')\n",
        "dados_brutos = pd.merge(dados_brutos, lista_icu, how='left', left_on='PATIENT_VISIT_IDENTIFIER', right_on='PATIENT_VISIT_IDENTIFIER')"
      ],
      "execution_count": 4,
      "outputs": []
    },
    {
      "cell_type": "markdown",
      "metadata": {
        "id": "gcRq9TbKLMH0"
      },
      "source": [
        "Agora, atendendo à documentação, vamos remover todas as medições que foram feitas no mesmo período em que o paciente entrou na UTI ou já estava lá, pois essas não vão ter efeito preditivo.\n"
      ]
    },
    {
      "cell_type": "code",
      "metadata": {
        "id": "tLU_Ym6-DDrU"
      },
      "source": [
        "## REMOVE MEDIÇÕES REALIZADAS JÁ NA UTI (POSSIVELMENTE)\n",
        "a_remover = dados.query('ICU == 1 and ICU_final == 1').index\n",
        "\n",
        "dados_pre = dados.query('index not in @a_remover').drop('ICU', axis=1)"
      ],
      "execution_count": 5,
      "outputs": []
    },
    {
      "cell_type": "markdown",
      "metadata": {
        "id": "4IklUqxEnnJg"
      },
      "source": [
        "A partir de agora tenho uma grande diferença em relação ao que vimos ao longo do curso e acho que cabe um esclarecimento especial para não passar desapercebido.\n",
        "\n",
        "---\n",
        "#### **$\\color{blue}{\\text{ESCLARECIMENTO ESPECIAL}}$**\n",
        "\n",
        "---\n",
        "\n",
        ">O entendimento de que a necessidade do hospital é identificar com o máximo de antecedência se o paciente que está ingressando no hospital irá precisar de cuidados intensivos nos levou a, em um primeiro momento, desprezar todas as medições feitas em janelas temporais posteriores. Conservamos somente a janela de entrada (0-2h) e desconsideramos os dados posteriores.\n",
        ">\n",
        ">Isso reduziu ainda mais a quantidade de dados já limitados que fornecemos aos modelos de *Machine Learning*, trazendo resultados de baixa acurácia preditiva.\n",
        ">\n",
        ">O meu entendimento é que podemos tratar as diversas janelas de medição de um paciente como se fossem pacientes diferentes, aumentando a informação que dispomos para treinar nosso modelo.\n",
        ">\n",
        ">A lógica por trás desse raciocínio é que podemos ter, por exemplo, as duas situações abaixo:\n",
        ">\n",
        ">* **PACIENTE A:** vai para o hospital logo que tem os primeiros sintomas, passa por diversas janelas de medição mas acaba tendo que ser transferido para a UTI na última janela (acima de 12h).\n",
        ">\n",
        ">* **PACIENTE B:** reluta em se dirigir ao hospital, passa pelos primeiros sintomas em casa, sem medições. Quando se dirige ao hospital, em sua primeira medição de sinais já está com o mesmo quadro que o paciente A apresentava na janela de 4-6h, por exemplo. Esse paciente acaba indo para a UTI antes de fechar 12h de internação.\n",
        ">\n",
        ">Se desprezarmos os dados posteriores à janela inicial, perderíamos a possibilidade de enxergar essa relação entre os dois pacientes, que nos daria indícios de que o paciente B também iria precisar de transferência para a UTI.\n",
        ">\n",
        ">Sendo assim, depois de fazer o preenchimento das lacunas em nossa base e desprezar o que ainda tivermos de dados inválidos, vamos eliminar as colunas de identificação de paciente e de janela de medição, pois iremos tratar cada linha de nosso *dataset* como sendo um paciente diferente.\n",
        ">\n",
        ">Isso vai nos permitir trabalhar com uma maior massa de dados.\n",
        "\n",
        "---\n",
        "---"
      ]
    },
    {
      "cell_type": "markdown",
      "metadata": {
        "id": "8kzPvi73mCxZ"
      },
      "source": [
        "Vamos então definir a função que fará o preenchimento de lacunas nas variáveis contínuas de nosso *dataset*, pois algumas medições não foram feitas e para submeter os dados aos modelos de *Machine Learning* precisamos que eles estejam completos.\n",
        "\n",
        "O método utilizado para preenchimento foi o **`fillna`**, sendo que usamos primeiro o *forward fill*, propagando os dados anteriores para as lacunas e depois aplicando o *back fill*, trazendo os dados posteriores.\n",
        "\n",
        "Como já eliminamos as linhas de dados em que as medições foram feitas na mesma janela em que o paciente foi para a UTI, não corremos o risco de aproveitar indevidamente esses dados.\n",
        "\n"
      ]
    },
    {
      "cell_type": "code",
      "metadata": {
        "id": "9UThDaw5854w"
      },
      "source": [
        "def preenche_tabela(dados):\n",
        "    var_continuas_colunas = dados.iloc[:, 13:-2].columns\n",
        "    var_continuas = dados.groupby('PATIENT_VISIT_IDENTIFIER', as_index=False)[var_continuas_colunas].fillna(method='ffill').fillna(method='bfill')\n",
        "    var_categoricas = dados.iloc[:, :13]\n",
        "    var_finais = dados.iloc[:, -2:]\n",
        "    dados_finais = pd.concat([var_categoricas, var_continuas, var_finais], ignore_index=True,axis=1)\n",
        "    dados_finais.columns = dados.columns\n",
        "    return dados_finais"
      ],
      "execution_count": 6,
      "outputs": []
    },
    {
      "cell_type": "markdown",
      "metadata": {
        "id": "zspYBF_enWRq"
      },
      "source": [
        "Depois de aplicada a função de preenchimento das lacunas vamos dispensar alguma linha de nosso *dataset* que ainda apresente valores inválidos e, na sequência, vamos eliminar as colunas que não terão mais utilidade em nosso modelo, a **`'PATIENT_VISIT_IDENTIFIER'`** e a **`'WINDOW'`**. Conforme vimos anteriormente, iremos tratar cada medição como sendo um paciente diferente, o que torna essas colunas desnecessárias."
      ]
    },
    {
      "cell_type": "code",
      "metadata": {
        "colab": {
          "base_uri": "https://localhost:8080/",
          "height": 419
        },
        "id": "_3lAShlsG3zf",
        "outputId": "1bb54b14-f0f1-4605-a51c-bbab9752c77c"
      },
      "source": [
        "dados_limpos = preenche_tabela(dados_pre)\n",
        "\n",
        "dados_limpos = dados_limpos.dropna()\n",
        "dados_limpos.drop(['PATIENT_VISIT_IDENTIFIER', 'WINDOW'], axis = 1, inplace = True)\n",
        "dados_limpos.reset_index(drop = True, inplace = True)\n",
        "dados_limpos.describe().T"
      ],
      "execution_count": 7,
      "outputs": [
        {
          "output_type": "execute_result",
          "data": {
            "text/html": [
              "<div>\n",
              "<style scoped>\n",
              "    .dataframe tbody tr th:only-of-type {\n",
              "        vertical-align: middle;\n",
              "    }\n",
              "\n",
              "    .dataframe tbody tr th {\n",
              "        vertical-align: top;\n",
              "    }\n",
              "\n",
              "    .dataframe thead th {\n",
              "        text-align: right;\n",
              "    }\n",
              "</style>\n",
              "<table border=\"1\" class=\"dataframe\">\n",
              "  <thead>\n",
              "    <tr style=\"text-align: right;\">\n",
              "      <th></th>\n",
              "      <th>count</th>\n",
              "      <th>mean</th>\n",
              "      <th>std</th>\n",
              "      <th>min</th>\n",
              "      <th>25%</th>\n",
              "      <th>50%</th>\n",
              "      <th>75%</th>\n",
              "      <th>max</th>\n",
              "    </tr>\n",
              "  </thead>\n",
              "  <tbody>\n",
              "    <tr>\n",
              "      <th>AGE_ABOVE65</th>\n",
              "      <td>1405.0</td>\n",
              "      <td>0.404982</td>\n",
              "      <td>0.491063</td>\n",
              "      <td>0.0</td>\n",
              "      <td>0.0</td>\n",
              "      <td>0.0</td>\n",
              "      <td>1.000000</td>\n",
              "      <td>1.000000</td>\n",
              "    </tr>\n",
              "    <tr>\n",
              "      <th>AGE_PERCENTIL</th>\n",
              "      <td>1405.0</td>\n",
              "      <td>3.920996</td>\n",
              "      <td>2.797821</td>\n",
              "      <td>0.0</td>\n",
              "      <td>1.0</td>\n",
              "      <td>4.0</td>\n",
              "      <td>6.000000</td>\n",
              "      <td>9.000000</td>\n",
              "    </tr>\n",
              "    <tr>\n",
              "      <th>GENDER</th>\n",
              "      <td>1405.0</td>\n",
              "      <td>0.389324</td>\n",
              "      <td>0.487771</td>\n",
              "      <td>0.0</td>\n",
              "      <td>0.0</td>\n",
              "      <td>0.0</td>\n",
              "      <td>1.000000</td>\n",
              "      <td>1.000000</td>\n",
              "    </tr>\n",
              "    <tr>\n",
              "      <th>DISEASE GROUPING 1</th>\n",
              "      <td>1405.0</td>\n",
              "      <td>0.096797</td>\n",
              "      <td>0.295787</td>\n",
              "      <td>0.0</td>\n",
              "      <td>0.0</td>\n",
              "      <td>0.0</td>\n",
              "      <td>0.000000</td>\n",
              "      <td>1.000000</td>\n",
              "    </tr>\n",
              "    <tr>\n",
              "      <th>DISEASE GROUPING 2</th>\n",
              "      <td>1405.0</td>\n",
              "      <td>0.019929</td>\n",
              "      <td>0.139806</td>\n",
              "      <td>0.0</td>\n",
              "      <td>0.0</td>\n",
              "      <td>0.0</td>\n",
              "      <td>0.000000</td>\n",
              "      <td>1.000000</td>\n",
              "    </tr>\n",
              "    <tr>\n",
              "      <th>...</th>\n",
              "      <td>...</td>\n",
              "      <td>...</td>\n",
              "      <td>...</td>\n",
              "      <td>...</td>\n",
              "      <td>...</td>\n",
              "      <td>...</td>\n",
              "      <td>...</td>\n",
              "      <td>...</td>\n",
              "    </tr>\n",
              "    <tr>\n",
              "      <th>HEART_RATE_DIFF_REL</th>\n",
              "      <td>1405.0</td>\n",
              "      <td>-0.925962</td>\n",
              "      <td>0.148345</td>\n",
              "      <td>-1.0</td>\n",
              "      <td>-1.0</td>\n",
              "      <td>-1.0</td>\n",
              "      <td>-0.943956</td>\n",
              "      <td>-0.069094</td>\n",
              "    </tr>\n",
              "    <tr>\n",
              "      <th>RESPIRATORY_RATE_DIFF_REL</th>\n",
              "      <td>1405.0</td>\n",
              "      <td>-0.925570</td>\n",
              "      <td>0.155916</td>\n",
              "      <td>-1.0</td>\n",
              "      <td>-1.0</td>\n",
              "      <td>-1.0</td>\n",
              "      <td>-0.935484</td>\n",
              "      <td>0.401434</td>\n",
              "    </tr>\n",
              "    <tr>\n",
              "      <th>TEMPERATURE_DIFF_REL</th>\n",
              "      <td>1405.0</td>\n",
              "      <td>-0.899514</td>\n",
              "      <td>0.192139</td>\n",
              "      <td>-1.0</td>\n",
              "      <td>-1.0</td>\n",
              "      <td>-1.0</td>\n",
              "      <td>-0.882253</td>\n",
              "      <td>0.029497</td>\n",
              "    </tr>\n",
              "    <tr>\n",
              "      <th>OXYGEN_SATURATION_DIFF_REL</th>\n",
              "      <td>1405.0</td>\n",
              "      <td>-0.961759</td>\n",
              "      <td>0.126679</td>\n",
              "      <td>-1.0</td>\n",
              "      <td>-1.0</td>\n",
              "      <td>-1.0</td>\n",
              "      <td>-0.959202</td>\n",
              "      <td>0.917526</td>\n",
              "    </tr>\n",
              "    <tr>\n",
              "      <th>ICU_final</th>\n",
              "      <td>1405.0</td>\n",
              "      <td>0.327402</td>\n",
              "      <td>0.469432</td>\n",
              "      <td>0.0</td>\n",
              "      <td>0.0</td>\n",
              "      <td>0.0</td>\n",
              "      <td>1.000000</td>\n",
              "      <td>1.000000</td>\n",
              "    </tr>\n",
              "  </tbody>\n",
              "</table>\n",
              "<p>229 rows × 8 columns</p>\n",
              "</div>"
            ],
            "text/plain": [
              "                             count      mean       std  ...  50%       75%       max\n",
              "AGE_ABOVE65                 1405.0  0.404982  0.491063  ...  0.0  1.000000  1.000000\n",
              "AGE_PERCENTIL               1405.0  3.920996  2.797821  ...  4.0  6.000000  9.000000\n",
              "GENDER                      1405.0  0.389324  0.487771  ...  0.0  1.000000  1.000000\n",
              "DISEASE GROUPING 1          1405.0  0.096797  0.295787  ...  0.0  0.000000  1.000000\n",
              "DISEASE GROUPING 2          1405.0  0.019929  0.139806  ...  0.0  0.000000  1.000000\n",
              "...                            ...       ...       ...  ...  ...       ...       ...\n",
              "HEART_RATE_DIFF_REL         1405.0 -0.925962  0.148345  ... -1.0 -0.943956 -0.069094\n",
              "RESPIRATORY_RATE_DIFF_REL   1405.0 -0.925570  0.155916  ... -1.0 -0.935484  0.401434\n",
              "TEMPERATURE_DIFF_REL        1405.0 -0.899514  0.192139  ... -1.0 -0.882253  0.029497\n",
              "OXYGEN_SATURATION_DIFF_REL  1405.0 -0.961759  0.126679  ... -1.0 -0.959202  0.917526\n",
              "ICU_final                   1405.0  0.327402  0.469432  ...  0.0  1.000000  1.000000\n",
              "\n",
              "[229 rows x 8 columns]"
            ]
          },
          "metadata": {
            "tags": []
          },
          "execution_count": 7
        }
      ]
    },
    {
      "cell_type": "markdown",
      "metadata": {
        "id": "4XjO2BWfL0go"
      },
      "source": [
        "Ainda assim, temos 229 colunas em nossa base de dados. Se descontarmos as 3 variáveis demográficas e nossa variável resultado, ainda restam 225 variáveis.\n",
        "\n",
        "Sabemos que modelos de *Machine Learning* podem apresentar tendência à ***overfitting*** quando trabalham com número excessivo de variáveis com alto grau de correlação.\n",
        "\n",
        "Para reduzir esse risco, vamos criar uma função que irá retirar da base de dados todas as variáveis com correlação superior a um valor de corte, que estabelecemos em 95%."
      ]
    },
    {
      "cell_type": "code",
      "metadata": {
        "id": "9gp41C64KUCj"
      },
      "source": [
        "def remove_vars_correlacionadas(dados, valor_corte):\n",
        "    matriz_corr = dados.select_dtypes('float64').corr().abs()\n",
        "    matriz_superior = matriz_corr.where(np.triu(np.ones(matriz_corr.shape), k = 1).astype(np.bool))\n",
        "    vars_correlacionadas = [coluna for coluna in matriz_superior.columns if any(matriz_superior[coluna] > valor_corte)]\n",
        "\n",
        "    return dados.drop(vars_correlacionadas, axis = 1), vars_correlacionadas"
      ],
      "execution_count": 8,
      "outputs": []
    },
    {
      "cell_type": "code",
      "metadata": {
        "colab": {
          "base_uri": "https://localhost:8080/",
          "height": 473
        },
        "id": "YMdnTJupKVLa",
        "outputId": "314c6f49-cf24-4175-bd60-294c19906ec3"
      },
      "source": [
        "correl_de_corte = 0.95\n",
        "\n",
        "dados_limpos_sem_corr, vars_correlacionadas = remove_vars_correlacionadas(dados_limpos, correl_de_corte)\n",
        "dados_limpos_sem_corr"
      ],
      "execution_count": 9,
      "outputs": [
        {
          "output_type": "execute_result",
          "data": {
            "text/html": [
              "<div>\n",
              "<style scoped>\n",
              "    .dataframe tbody tr th:only-of-type {\n",
              "        vertical-align: middle;\n",
              "    }\n",
              "\n",
              "    .dataframe tbody tr th {\n",
              "        vertical-align: top;\n",
              "    }\n",
              "\n",
              "    .dataframe thead th {\n",
              "        text-align: right;\n",
              "    }\n",
              "</style>\n",
              "<table border=\"1\" class=\"dataframe\">\n",
              "  <thead>\n",
              "    <tr style=\"text-align: right;\">\n",
              "      <th></th>\n",
              "      <th>AGE_ABOVE65</th>\n",
              "      <th>AGE_PERCENTIL</th>\n",
              "      <th>GENDER</th>\n",
              "      <th>DISEASE GROUPING 1</th>\n",
              "      <th>DISEASE GROUPING 2</th>\n",
              "      <th>DISEASE GROUPING 3</th>\n",
              "      <th>DISEASE GROUPING 4</th>\n",
              "      <th>DISEASE GROUPING 5</th>\n",
              "      <th>DISEASE GROUPING 6</th>\n",
              "      <th>HTN</th>\n",
              "      <th>IMMUNOCOMPROMISED</th>\n",
              "      <th>OTHER</th>\n",
              "      <th>ALBUMIN_MEDIAN</th>\n",
              "      <th>ALBUMIN_DIFF</th>\n",
              "      <th>BE_ARTERIAL_MEDIAN</th>\n",
              "      <th>BE_ARTERIAL_DIFF</th>\n",
              "      <th>BE_VENOUS_MEDIAN</th>\n",
              "      <th>BE_VENOUS_DIFF</th>\n",
              "      <th>BIC_ARTERIAL_MEDIAN</th>\n",
              "      <th>BIC_ARTERIAL_DIFF</th>\n",
              "      <th>BIC_VENOUS_MEDIAN</th>\n",
              "      <th>BIC_VENOUS_DIFF</th>\n",
              "      <th>BILLIRUBIN_MEDIAN</th>\n",
              "      <th>BILLIRUBIN_DIFF</th>\n",
              "      <th>BLAST_MEDIAN</th>\n",
              "      <th>BLAST_DIFF</th>\n",
              "      <th>CALCIUM_MEDIAN</th>\n",
              "      <th>CALCIUM_DIFF</th>\n",
              "      <th>CREATININ_MEDIAN</th>\n",
              "      <th>CREATININ_DIFF</th>\n",
              "      <th>FFA_MEDIAN</th>\n",
              "      <th>FFA_DIFF</th>\n",
              "      <th>GGT_MEDIAN</th>\n",
              "      <th>GGT_DIFF</th>\n",
              "      <th>GLUCOSE_MEDIAN</th>\n",
              "      <th>GLUCOSE_DIFF</th>\n",
              "      <th>HEMATOCRITE_MEDIAN</th>\n",
              "      <th>HEMATOCRITE_DIFF</th>\n",
              "      <th>HEMOGLOBIN_DIFF</th>\n",
              "      <th>INR_MEDIAN</th>\n",
              "      <th>...</th>\n",
              "      <th>SAT02_ARTERIAL_DIFF</th>\n",
              "      <th>SAT02_VENOUS_MEDIAN</th>\n",
              "      <th>SAT02_VENOUS_DIFF</th>\n",
              "      <th>SODIUM_MEDIAN</th>\n",
              "      <th>SODIUM_DIFF</th>\n",
              "      <th>TGO_MEDIAN</th>\n",
              "      <th>TGO_DIFF</th>\n",
              "      <th>TGP_MEDIAN</th>\n",
              "      <th>TGP_DIFF</th>\n",
              "      <th>TTPA_MEDIAN</th>\n",
              "      <th>TTPA_DIFF</th>\n",
              "      <th>UREA_MEDIAN</th>\n",
              "      <th>UREA_DIFF</th>\n",
              "      <th>DIMER_MEDIAN</th>\n",
              "      <th>DIMER_DIFF</th>\n",
              "      <th>BLOODPRESSURE_DIASTOLIC_MEAN</th>\n",
              "      <th>BLOODPRESSURE_SISTOLIC_MEAN</th>\n",
              "      <th>HEART_RATE_MEAN</th>\n",
              "      <th>RESPIRATORY_RATE_MEAN</th>\n",
              "      <th>TEMPERATURE_MEAN</th>\n",
              "      <th>OXYGEN_SATURATION_MEAN</th>\n",
              "      <th>BLOODPRESSURE_DIASTOLIC_MIN</th>\n",
              "      <th>BLOODPRESSURE_SISTOLIC_MIN</th>\n",
              "      <th>HEART_RATE_MIN</th>\n",
              "      <th>RESPIRATORY_RATE_MIN</th>\n",
              "      <th>TEMPERATURE_MIN</th>\n",
              "      <th>OXYGEN_SATURATION_MIN</th>\n",
              "      <th>BLOODPRESSURE_DIASTOLIC_MAX</th>\n",
              "      <th>BLOODPRESSURE_SISTOLIC_MAX</th>\n",
              "      <th>HEART_RATE_MAX</th>\n",
              "      <th>RESPIRATORY_RATE_MAX</th>\n",
              "      <th>TEMPERATURE_MAX</th>\n",
              "      <th>OXYGEN_SATURATION_MAX</th>\n",
              "      <th>BLOODPRESSURE_DIASTOLIC_DIFF</th>\n",
              "      <th>BLOODPRESSURE_SISTOLIC_DIFF</th>\n",
              "      <th>HEART_RATE_DIFF</th>\n",
              "      <th>RESPIRATORY_RATE_DIFF</th>\n",
              "      <th>TEMPERATURE_DIFF</th>\n",
              "      <th>OXYGEN_SATURATION_DIFF</th>\n",
              "      <th>ICU_final</th>\n",
              "    </tr>\n",
              "  </thead>\n",
              "  <tbody>\n",
              "    <tr>\n",
              "      <th>0</th>\n",
              "      <td>1</td>\n",
              "      <td>5</td>\n",
              "      <td>0</td>\n",
              "      <td>0.0</td>\n",
              "      <td>0.0</td>\n",
              "      <td>0.0</td>\n",
              "      <td>0.0</td>\n",
              "      <td>1.0</td>\n",
              "      <td>1.0</td>\n",
              "      <td>0.0</td>\n",
              "      <td>0.0</td>\n",
              "      <td>1.0</td>\n",
              "      <td>0.605263</td>\n",
              "      <td>-1.0</td>\n",
              "      <td>-1.0</td>\n",
              "      <td>-1.0</td>\n",
              "      <td>-1.000000</td>\n",
              "      <td>-1.0</td>\n",
              "      <td>-0.317073</td>\n",
              "      <td>-1.0</td>\n",
              "      <td>-0.317073</td>\n",
              "      <td>-1.0</td>\n",
              "      <td>-0.938950</td>\n",
              "      <td>-1.0</td>\n",
              "      <td>-1.0</td>\n",
              "      <td>-1.0</td>\n",
              "      <td>0.183673</td>\n",
              "      <td>-1.0</td>\n",
              "      <td>-0.868365</td>\n",
              "      <td>-1.0</td>\n",
              "      <td>-0.742004</td>\n",
              "      <td>-1.0</td>\n",
              "      <td>-0.945093</td>\n",
              "      <td>-1.0</td>\n",
              "      <td>-0.891993</td>\n",
              "      <td>-1.0</td>\n",
              "      <td>0.090147</td>\n",
              "      <td>-1.0</td>\n",
              "      <td>-1.0</td>\n",
              "      <td>-0.932246</td>\n",
              "      <td>...</td>\n",
              "      <td>-1.0</td>\n",
              "      <td>0.345679</td>\n",
              "      <td>-1.0</td>\n",
              "      <td>-0.028571</td>\n",
              "      <td>-1.0</td>\n",
              "      <td>-0.997201</td>\n",
              "      <td>-1.0</td>\n",
              "      <td>-0.990854</td>\n",
              "      <td>-1.0</td>\n",
              "      <td>-0.825613</td>\n",
              "      <td>-1.0</td>\n",
              "      <td>-0.836145</td>\n",
              "      <td>-1.0</td>\n",
              "      <td>-0.994912</td>\n",
              "      <td>-1.0</td>\n",
              "      <td>0.086420</td>\n",
              "      <td>-0.230769</td>\n",
              "      <td>-0.283019</td>\n",
              "      <td>-0.593220</td>\n",
              "      <td>-0.285714</td>\n",
              "      <td>0.736842</td>\n",
              "      <td>0.237113</td>\n",
              "      <td>0.0000</td>\n",
              "      <td>-0.162393</td>\n",
              "      <td>-0.500000</td>\n",
              "      <td>0.208791</td>\n",
              "      <td>0.898990</td>\n",
              "      <td>-0.247863</td>\n",
              "      <td>-0.459459</td>\n",
              "      <td>-0.432836</td>\n",
              "      <td>-0.636364</td>\n",
              "      <td>-0.420290</td>\n",
              "      <td>0.736842</td>\n",
              "      <td>-1.000000</td>\n",
              "      <td>-1.000000</td>\n",
              "      <td>-1.000000</td>\n",
              "      <td>-1.000000</td>\n",
              "      <td>-1.000000</td>\n",
              "      <td>-1.000000</td>\n",
              "      <td>1</td>\n",
              "    </tr>\n",
              "    <tr>\n",
              "      <th>1</th>\n",
              "      <td>1</td>\n",
              "      <td>5</td>\n",
              "      <td>0</td>\n",
              "      <td>0.0</td>\n",
              "      <td>0.0</td>\n",
              "      <td>0.0</td>\n",
              "      <td>0.0</td>\n",
              "      <td>1.0</td>\n",
              "      <td>1.0</td>\n",
              "      <td>0.0</td>\n",
              "      <td>0.0</td>\n",
              "      <td>1.0</td>\n",
              "      <td>0.605263</td>\n",
              "      <td>-1.0</td>\n",
              "      <td>-1.0</td>\n",
              "      <td>-1.0</td>\n",
              "      <td>-1.000000</td>\n",
              "      <td>-1.0</td>\n",
              "      <td>-0.317073</td>\n",
              "      <td>-1.0</td>\n",
              "      <td>-0.317073</td>\n",
              "      <td>-1.0</td>\n",
              "      <td>-0.938950</td>\n",
              "      <td>-1.0</td>\n",
              "      <td>-1.0</td>\n",
              "      <td>-1.0</td>\n",
              "      <td>0.183673</td>\n",
              "      <td>-1.0</td>\n",
              "      <td>-0.868365</td>\n",
              "      <td>-1.0</td>\n",
              "      <td>-0.742004</td>\n",
              "      <td>-1.0</td>\n",
              "      <td>-0.945093</td>\n",
              "      <td>-1.0</td>\n",
              "      <td>-0.891993</td>\n",
              "      <td>-1.0</td>\n",
              "      <td>0.090147</td>\n",
              "      <td>-1.0</td>\n",
              "      <td>-1.0</td>\n",
              "      <td>-0.932246</td>\n",
              "      <td>...</td>\n",
              "      <td>-1.0</td>\n",
              "      <td>0.345679</td>\n",
              "      <td>-1.0</td>\n",
              "      <td>-0.028571</td>\n",
              "      <td>-1.0</td>\n",
              "      <td>-0.997201</td>\n",
              "      <td>-1.0</td>\n",
              "      <td>-0.990854</td>\n",
              "      <td>-1.0</td>\n",
              "      <td>-0.825613</td>\n",
              "      <td>-1.0</td>\n",
              "      <td>-0.836145</td>\n",
              "      <td>-1.0</td>\n",
              "      <td>-0.994912</td>\n",
              "      <td>-1.0</td>\n",
              "      <td>0.333333</td>\n",
              "      <td>-0.230769</td>\n",
              "      <td>-0.132075</td>\n",
              "      <td>-0.593220</td>\n",
              "      <td>0.535714</td>\n",
              "      <td>0.578947</td>\n",
              "      <td>0.443299</td>\n",
              "      <td>0.0000</td>\n",
              "      <td>-0.025641</td>\n",
              "      <td>-0.500000</td>\n",
              "      <td>0.714286</td>\n",
              "      <td>0.838384</td>\n",
              "      <td>-0.076923</td>\n",
              "      <td>-0.459459</td>\n",
              "      <td>-0.313433</td>\n",
              "      <td>-0.636364</td>\n",
              "      <td>0.246377</td>\n",
              "      <td>0.578947</td>\n",
              "      <td>-1.000000</td>\n",
              "      <td>-1.000000</td>\n",
              "      <td>-1.000000</td>\n",
              "      <td>-1.000000</td>\n",
              "      <td>-1.000000</td>\n",
              "      <td>-1.000000</td>\n",
              "      <td>1</td>\n",
              "    </tr>\n",
              "    <tr>\n",
              "      <th>2</th>\n",
              "      <td>1</td>\n",
              "      <td>5</td>\n",
              "      <td>0</td>\n",
              "      <td>0.0</td>\n",
              "      <td>0.0</td>\n",
              "      <td>0.0</td>\n",
              "      <td>0.0</td>\n",
              "      <td>1.0</td>\n",
              "      <td>1.0</td>\n",
              "      <td>0.0</td>\n",
              "      <td>0.0</td>\n",
              "      <td>1.0</td>\n",
              "      <td>0.605263</td>\n",
              "      <td>-1.0</td>\n",
              "      <td>-1.0</td>\n",
              "      <td>-1.0</td>\n",
              "      <td>-1.000000</td>\n",
              "      <td>-1.0</td>\n",
              "      <td>-0.317073</td>\n",
              "      <td>-1.0</td>\n",
              "      <td>-0.317073</td>\n",
              "      <td>-1.0</td>\n",
              "      <td>-0.938950</td>\n",
              "      <td>-1.0</td>\n",
              "      <td>-1.0</td>\n",
              "      <td>-1.0</td>\n",
              "      <td>0.183673</td>\n",
              "      <td>-1.0</td>\n",
              "      <td>-0.868365</td>\n",
              "      <td>-1.0</td>\n",
              "      <td>-0.742004</td>\n",
              "      <td>-1.0</td>\n",
              "      <td>-0.945093</td>\n",
              "      <td>-1.0</td>\n",
              "      <td>-0.891993</td>\n",
              "      <td>-1.0</td>\n",
              "      <td>0.090147</td>\n",
              "      <td>-1.0</td>\n",
              "      <td>-1.0</td>\n",
              "      <td>-0.932246</td>\n",
              "      <td>...</td>\n",
              "      <td>-1.0</td>\n",
              "      <td>0.345679</td>\n",
              "      <td>-1.0</td>\n",
              "      <td>-0.028571</td>\n",
              "      <td>-1.0</td>\n",
              "      <td>-0.997201</td>\n",
              "      <td>-1.0</td>\n",
              "      <td>-0.990854</td>\n",
              "      <td>-1.0</td>\n",
              "      <td>-0.825613</td>\n",
              "      <td>-1.0</td>\n",
              "      <td>-0.836145</td>\n",
              "      <td>-1.0</td>\n",
              "      <td>-0.994912</td>\n",
              "      <td>-1.0</td>\n",
              "      <td>0.333333</td>\n",
              "      <td>-0.230769</td>\n",
              "      <td>-0.132075</td>\n",
              "      <td>-0.593220</td>\n",
              "      <td>0.535714</td>\n",
              "      <td>0.578947</td>\n",
              "      <td>0.443299</td>\n",
              "      <td>0.0000</td>\n",
              "      <td>-0.025641</td>\n",
              "      <td>-0.500000</td>\n",
              "      <td>0.714286</td>\n",
              "      <td>0.838384</td>\n",
              "      <td>-0.076923</td>\n",
              "      <td>-0.459459</td>\n",
              "      <td>-0.313433</td>\n",
              "      <td>-0.636364</td>\n",
              "      <td>0.246377</td>\n",
              "      <td>0.578947</td>\n",
              "      <td>-1.000000</td>\n",
              "      <td>-1.000000</td>\n",
              "      <td>-1.000000</td>\n",
              "      <td>-1.000000</td>\n",
              "      <td>-1.000000</td>\n",
              "      <td>-1.000000</td>\n",
              "      <td>1</td>\n",
              "    </tr>\n",
              "    <tr>\n",
              "      <th>3</th>\n",
              "      <td>1</td>\n",
              "      <td>5</td>\n",
              "      <td>0</td>\n",
              "      <td>0.0</td>\n",
              "      <td>0.0</td>\n",
              "      <td>0.0</td>\n",
              "      <td>0.0</td>\n",
              "      <td>1.0</td>\n",
              "      <td>1.0</td>\n",
              "      <td>0.0</td>\n",
              "      <td>0.0</td>\n",
              "      <td>1.0</td>\n",
              "      <td>0.605263</td>\n",
              "      <td>-1.0</td>\n",
              "      <td>-1.0</td>\n",
              "      <td>-1.0</td>\n",
              "      <td>-1.000000</td>\n",
              "      <td>-1.0</td>\n",
              "      <td>-0.317073</td>\n",
              "      <td>-1.0</td>\n",
              "      <td>-0.317073</td>\n",
              "      <td>-1.0</td>\n",
              "      <td>-0.938950</td>\n",
              "      <td>-1.0</td>\n",
              "      <td>-1.0</td>\n",
              "      <td>-1.0</td>\n",
              "      <td>0.183673</td>\n",
              "      <td>-1.0</td>\n",
              "      <td>-0.868365</td>\n",
              "      <td>-1.0</td>\n",
              "      <td>-0.742004</td>\n",
              "      <td>-1.0</td>\n",
              "      <td>-0.945093</td>\n",
              "      <td>-1.0</td>\n",
              "      <td>-0.891993</td>\n",
              "      <td>-1.0</td>\n",
              "      <td>0.090147</td>\n",
              "      <td>-1.0</td>\n",
              "      <td>-1.0</td>\n",
              "      <td>-0.932246</td>\n",
              "      <td>...</td>\n",
              "      <td>-1.0</td>\n",
              "      <td>0.345679</td>\n",
              "      <td>-1.0</td>\n",
              "      <td>-0.028571</td>\n",
              "      <td>-1.0</td>\n",
              "      <td>-0.997201</td>\n",
              "      <td>-1.0</td>\n",
              "      <td>-0.990854</td>\n",
              "      <td>-1.0</td>\n",
              "      <td>-0.825613</td>\n",
              "      <td>-1.0</td>\n",
              "      <td>-0.836145</td>\n",
              "      <td>-1.0</td>\n",
              "      <td>-0.994912</td>\n",
              "      <td>-1.0</td>\n",
              "      <td>0.333333</td>\n",
              "      <td>-0.230769</td>\n",
              "      <td>-0.132075</td>\n",
              "      <td>-0.593220</td>\n",
              "      <td>-0.107143</td>\n",
              "      <td>0.736842</td>\n",
              "      <td>0.443299</td>\n",
              "      <td>0.0000</td>\n",
              "      <td>-0.025641</td>\n",
              "      <td>-0.500000</td>\n",
              "      <td>0.318681</td>\n",
              "      <td>0.898990</td>\n",
              "      <td>-0.076923</td>\n",
              "      <td>-0.459459</td>\n",
              "      <td>-0.313433</td>\n",
              "      <td>-0.636364</td>\n",
              "      <td>-0.275362</td>\n",
              "      <td>0.736842</td>\n",
              "      <td>-1.000000</td>\n",
              "      <td>-1.000000</td>\n",
              "      <td>-1.000000</td>\n",
              "      <td>-1.000000</td>\n",
              "      <td>-1.000000</td>\n",
              "      <td>-1.000000</td>\n",
              "      <td>1</td>\n",
              "    </tr>\n",
              "    <tr>\n",
              "      <th>4</th>\n",
              "      <td>0</td>\n",
              "      <td>0</td>\n",
              "      <td>0</td>\n",
              "      <td>0.0</td>\n",
              "      <td>0.0</td>\n",
              "      <td>0.0</td>\n",
              "      <td>0.0</td>\n",
              "      <td>0.0</td>\n",
              "      <td>0.0</td>\n",
              "      <td>0.0</td>\n",
              "      <td>0.0</td>\n",
              "      <td>1.0</td>\n",
              "      <td>0.605263</td>\n",
              "      <td>-1.0</td>\n",
              "      <td>-1.0</td>\n",
              "      <td>-1.0</td>\n",
              "      <td>-1.000000</td>\n",
              "      <td>-1.0</td>\n",
              "      <td>-0.317073</td>\n",
              "      <td>-1.0</td>\n",
              "      <td>-0.317073</td>\n",
              "      <td>-1.0</td>\n",
              "      <td>-0.938950</td>\n",
              "      <td>-1.0</td>\n",
              "      <td>-1.0</td>\n",
              "      <td>-1.0</td>\n",
              "      <td>0.357143</td>\n",
              "      <td>-1.0</td>\n",
              "      <td>-0.912243</td>\n",
              "      <td>-1.0</td>\n",
              "      <td>-0.742004</td>\n",
              "      <td>-1.0</td>\n",
              "      <td>-0.958528</td>\n",
              "      <td>-1.0</td>\n",
              "      <td>-0.780261</td>\n",
              "      <td>-1.0</td>\n",
              "      <td>0.144654</td>\n",
              "      <td>-1.0</td>\n",
              "      <td>-1.0</td>\n",
              "      <td>-0.959849</td>\n",
              "      <td>...</td>\n",
              "      <td>-1.0</td>\n",
              "      <td>0.345679</td>\n",
              "      <td>-1.0</td>\n",
              "      <td>0.085714</td>\n",
              "      <td>-1.0</td>\n",
              "      <td>-0.995428</td>\n",
              "      <td>-1.0</td>\n",
              "      <td>-0.986662</td>\n",
              "      <td>-1.0</td>\n",
              "      <td>-0.846633</td>\n",
              "      <td>-1.0</td>\n",
              "      <td>-0.836145</td>\n",
              "      <td>-1.0</td>\n",
              "      <td>-0.978029</td>\n",
              "      <td>-1.0</td>\n",
              "      <td>-0.489712</td>\n",
              "      <td>-0.685470</td>\n",
              "      <td>-0.048218</td>\n",
              "      <td>-0.645951</td>\n",
              "      <td>0.357143</td>\n",
              "      <td>0.935673</td>\n",
              "      <td>-0.525773</td>\n",
              "      <td>-0.5125</td>\n",
              "      <td>-0.111111</td>\n",
              "      <td>-0.714286</td>\n",
              "      <td>0.604396</td>\n",
              "      <td>0.959596</td>\n",
              "      <td>-0.435897</td>\n",
              "      <td>-0.491892</td>\n",
              "      <td>0.000000</td>\n",
              "      <td>-0.575758</td>\n",
              "      <td>0.101449</td>\n",
              "      <td>1.000000</td>\n",
              "      <td>-0.547826</td>\n",
              "      <td>-0.533742</td>\n",
              "      <td>-0.603053</td>\n",
              "      <td>-0.764706</td>\n",
              "      <td>-1.000000</td>\n",
              "      <td>-0.959596</td>\n",
              "      <td>1</td>\n",
              "    </tr>\n",
              "    <tr>\n",
              "      <th>...</th>\n",
              "      <td>...</td>\n",
              "      <td>...</td>\n",
              "      <td>...</td>\n",
              "      <td>...</td>\n",
              "      <td>...</td>\n",
              "      <td>...</td>\n",
              "      <td>...</td>\n",
              "      <td>...</td>\n",
              "      <td>...</td>\n",
              "      <td>...</td>\n",
              "      <td>...</td>\n",
              "      <td>...</td>\n",
              "      <td>...</td>\n",
              "      <td>...</td>\n",
              "      <td>...</td>\n",
              "      <td>...</td>\n",
              "      <td>...</td>\n",
              "      <td>...</td>\n",
              "      <td>...</td>\n",
              "      <td>...</td>\n",
              "      <td>...</td>\n",
              "      <td>...</td>\n",
              "      <td>...</td>\n",
              "      <td>...</td>\n",
              "      <td>...</td>\n",
              "      <td>...</td>\n",
              "      <td>...</td>\n",
              "      <td>...</td>\n",
              "      <td>...</td>\n",
              "      <td>...</td>\n",
              "      <td>...</td>\n",
              "      <td>...</td>\n",
              "      <td>...</td>\n",
              "      <td>...</td>\n",
              "      <td>...</td>\n",
              "      <td>...</td>\n",
              "      <td>...</td>\n",
              "      <td>...</td>\n",
              "      <td>...</td>\n",
              "      <td>...</td>\n",
              "      <td>...</td>\n",
              "      <td>...</td>\n",
              "      <td>...</td>\n",
              "      <td>...</td>\n",
              "      <td>...</td>\n",
              "      <td>...</td>\n",
              "      <td>...</td>\n",
              "      <td>...</td>\n",
              "      <td>...</td>\n",
              "      <td>...</td>\n",
              "      <td>...</td>\n",
              "      <td>...</td>\n",
              "      <td>...</td>\n",
              "      <td>...</td>\n",
              "      <td>...</td>\n",
              "      <td>...</td>\n",
              "      <td>...</td>\n",
              "      <td>...</td>\n",
              "      <td>...</td>\n",
              "      <td>...</td>\n",
              "      <td>...</td>\n",
              "      <td>...</td>\n",
              "      <td>...</td>\n",
              "      <td>...</td>\n",
              "      <td>...</td>\n",
              "      <td>...</td>\n",
              "      <td>...</td>\n",
              "      <td>...</td>\n",
              "      <td>...</td>\n",
              "      <td>...</td>\n",
              "      <td>...</td>\n",
              "      <td>...</td>\n",
              "      <td>...</td>\n",
              "      <td>...</td>\n",
              "      <td>...</td>\n",
              "      <td>...</td>\n",
              "      <td>...</td>\n",
              "      <td>...</td>\n",
              "      <td>...</td>\n",
              "      <td>...</td>\n",
              "      <td>...</td>\n",
              "    </tr>\n",
              "    <tr>\n",
              "      <th>1400</th>\n",
              "      <td>0</td>\n",
              "      <td>4</td>\n",
              "      <td>1</td>\n",
              "      <td>0.0</td>\n",
              "      <td>0.0</td>\n",
              "      <td>0.0</td>\n",
              "      <td>0.0</td>\n",
              "      <td>0.0</td>\n",
              "      <td>0.0</td>\n",
              "      <td>0.0</td>\n",
              "      <td>0.0</td>\n",
              "      <td>1.0</td>\n",
              "      <td>0.605263</td>\n",
              "      <td>-1.0</td>\n",
              "      <td>-1.0</td>\n",
              "      <td>-1.0</td>\n",
              "      <td>-0.717277</td>\n",
              "      <td>-1.0</td>\n",
              "      <td>-0.317073</td>\n",
              "      <td>-1.0</td>\n",
              "      <td>-0.170732</td>\n",
              "      <td>-1.0</td>\n",
              "      <td>-0.982208</td>\n",
              "      <td>-1.0</td>\n",
              "      <td>-1.0</td>\n",
              "      <td>-1.0</td>\n",
              "      <td>0.244898</td>\n",
              "      <td>-1.0</td>\n",
              "      <td>-0.934890</td>\n",
              "      <td>-1.0</td>\n",
              "      <td>-0.782516</td>\n",
              "      <td>-1.0</td>\n",
              "      <td>-0.960280</td>\n",
              "      <td>-1.0</td>\n",
              "      <td>-0.862197</td>\n",
              "      <td>-1.0</td>\n",
              "      <td>-0.064990</td>\n",
              "      <td>-1.0</td>\n",
              "      <td>-1.0</td>\n",
              "      <td>-0.957340</td>\n",
              "      <td>...</td>\n",
              "      <td>-1.0</td>\n",
              "      <td>-0.333333</td>\n",
              "      <td>-1.0</td>\n",
              "      <td>-0.085714</td>\n",
              "      <td>-1.0</td>\n",
              "      <td>-0.997387</td>\n",
              "      <td>-1.0</td>\n",
              "      <td>-0.992378</td>\n",
              "      <td>-1.0</td>\n",
              "      <td>-0.869210</td>\n",
              "      <td>-1.0</td>\n",
              "      <td>-0.879518</td>\n",
              "      <td>-1.0</td>\n",
              "      <td>-0.979571</td>\n",
              "      <td>-1.0</td>\n",
              "      <td>0.012346</td>\n",
              "      <td>-0.292308</td>\n",
              "      <td>0.056604</td>\n",
              "      <td>-0.525424</td>\n",
              "      <td>0.535714</td>\n",
              "      <td>0.789474</td>\n",
              "      <td>0.175258</td>\n",
              "      <td>-0.0500</td>\n",
              "      <td>0.145299</td>\n",
              "      <td>-0.428571</td>\n",
              "      <td>0.714286</td>\n",
              "      <td>0.919192</td>\n",
              "      <td>-0.299145</td>\n",
              "      <td>-0.502703</td>\n",
              "      <td>-0.164179</td>\n",
              "      <td>-0.575758</td>\n",
              "      <td>0.246377</td>\n",
              "      <td>0.789474</td>\n",
              "      <td>-1.000000</td>\n",
              "      <td>-1.000000</td>\n",
              "      <td>-1.000000</td>\n",
              "      <td>-1.000000</td>\n",
              "      <td>-1.000000</td>\n",
              "      <td>-1.000000</td>\n",
              "      <td>0</td>\n",
              "    </tr>\n",
              "    <tr>\n",
              "      <th>1401</th>\n",
              "      <td>0</td>\n",
              "      <td>4</td>\n",
              "      <td>1</td>\n",
              "      <td>0.0</td>\n",
              "      <td>0.0</td>\n",
              "      <td>0.0</td>\n",
              "      <td>0.0</td>\n",
              "      <td>0.0</td>\n",
              "      <td>0.0</td>\n",
              "      <td>0.0</td>\n",
              "      <td>0.0</td>\n",
              "      <td>1.0</td>\n",
              "      <td>0.605263</td>\n",
              "      <td>-1.0</td>\n",
              "      <td>-1.0</td>\n",
              "      <td>-1.0</td>\n",
              "      <td>-0.717277</td>\n",
              "      <td>-1.0</td>\n",
              "      <td>-0.317073</td>\n",
              "      <td>-1.0</td>\n",
              "      <td>-0.170732</td>\n",
              "      <td>-1.0</td>\n",
              "      <td>-0.982208</td>\n",
              "      <td>-1.0</td>\n",
              "      <td>-1.0</td>\n",
              "      <td>-1.0</td>\n",
              "      <td>0.244898</td>\n",
              "      <td>-1.0</td>\n",
              "      <td>-0.934890</td>\n",
              "      <td>-1.0</td>\n",
              "      <td>-0.782516</td>\n",
              "      <td>-1.0</td>\n",
              "      <td>-0.960280</td>\n",
              "      <td>-1.0</td>\n",
              "      <td>-0.862197</td>\n",
              "      <td>-1.0</td>\n",
              "      <td>-0.064990</td>\n",
              "      <td>-1.0</td>\n",
              "      <td>-1.0</td>\n",
              "      <td>-0.957340</td>\n",
              "      <td>...</td>\n",
              "      <td>-1.0</td>\n",
              "      <td>-0.333333</td>\n",
              "      <td>-1.0</td>\n",
              "      <td>-0.085714</td>\n",
              "      <td>-1.0</td>\n",
              "      <td>-0.997387</td>\n",
              "      <td>-1.0</td>\n",
              "      <td>-0.992378</td>\n",
              "      <td>-1.0</td>\n",
              "      <td>-0.869210</td>\n",
              "      <td>-1.0</td>\n",
              "      <td>-0.879518</td>\n",
              "      <td>-1.0</td>\n",
              "      <td>-0.979571</td>\n",
              "      <td>-1.0</td>\n",
              "      <td>0.086420</td>\n",
              "      <td>-0.384615</td>\n",
              "      <td>-0.113208</td>\n",
              "      <td>-0.593220</td>\n",
              "      <td>0.142857</td>\n",
              "      <td>0.578947</td>\n",
              "      <td>0.237113</td>\n",
              "      <td>-0.1250</td>\n",
              "      <td>-0.008547</td>\n",
              "      <td>-0.500000</td>\n",
              "      <td>0.472527</td>\n",
              "      <td>0.838384</td>\n",
              "      <td>-0.247863</td>\n",
              "      <td>-0.567568</td>\n",
              "      <td>-0.298507</td>\n",
              "      <td>-0.636364</td>\n",
              "      <td>-0.072464</td>\n",
              "      <td>0.578947</td>\n",
              "      <td>-1.000000</td>\n",
              "      <td>-1.000000</td>\n",
              "      <td>-1.000000</td>\n",
              "      <td>-1.000000</td>\n",
              "      <td>-1.000000</td>\n",
              "      <td>-1.000000</td>\n",
              "      <td>0</td>\n",
              "    </tr>\n",
              "    <tr>\n",
              "      <th>1402</th>\n",
              "      <td>0</td>\n",
              "      <td>4</td>\n",
              "      <td>1</td>\n",
              "      <td>0.0</td>\n",
              "      <td>0.0</td>\n",
              "      <td>0.0</td>\n",
              "      <td>0.0</td>\n",
              "      <td>0.0</td>\n",
              "      <td>0.0</td>\n",
              "      <td>0.0</td>\n",
              "      <td>0.0</td>\n",
              "      <td>1.0</td>\n",
              "      <td>0.605263</td>\n",
              "      <td>-1.0</td>\n",
              "      <td>-1.0</td>\n",
              "      <td>-1.0</td>\n",
              "      <td>-0.717277</td>\n",
              "      <td>-1.0</td>\n",
              "      <td>-0.317073</td>\n",
              "      <td>-1.0</td>\n",
              "      <td>-0.170732</td>\n",
              "      <td>-1.0</td>\n",
              "      <td>-0.982208</td>\n",
              "      <td>-1.0</td>\n",
              "      <td>-1.0</td>\n",
              "      <td>-1.0</td>\n",
              "      <td>0.244898</td>\n",
              "      <td>-1.0</td>\n",
              "      <td>-0.934890</td>\n",
              "      <td>-1.0</td>\n",
              "      <td>-0.782516</td>\n",
              "      <td>-1.0</td>\n",
              "      <td>-0.960280</td>\n",
              "      <td>-1.0</td>\n",
              "      <td>-0.862197</td>\n",
              "      <td>-1.0</td>\n",
              "      <td>-0.064990</td>\n",
              "      <td>-1.0</td>\n",
              "      <td>-1.0</td>\n",
              "      <td>-0.957340</td>\n",
              "      <td>...</td>\n",
              "      <td>-1.0</td>\n",
              "      <td>-0.333333</td>\n",
              "      <td>-1.0</td>\n",
              "      <td>-0.085714</td>\n",
              "      <td>-1.0</td>\n",
              "      <td>-0.997387</td>\n",
              "      <td>-1.0</td>\n",
              "      <td>-0.992378</td>\n",
              "      <td>-1.0</td>\n",
              "      <td>-0.869210</td>\n",
              "      <td>-1.0</td>\n",
              "      <td>-0.879518</td>\n",
              "      <td>-1.0</td>\n",
              "      <td>-0.979571</td>\n",
              "      <td>-1.0</td>\n",
              "      <td>0.086420</td>\n",
              "      <td>-0.230769</td>\n",
              "      <td>-0.169811</td>\n",
              "      <td>-0.593220</td>\n",
              "      <td>0.142857</td>\n",
              "      <td>0.736842</td>\n",
              "      <td>0.237113</td>\n",
              "      <td>0.0000</td>\n",
              "      <td>-0.059829</td>\n",
              "      <td>-0.500000</td>\n",
              "      <td>0.472527</td>\n",
              "      <td>0.898990</td>\n",
              "      <td>-0.247863</td>\n",
              "      <td>-0.459459</td>\n",
              "      <td>-0.343284</td>\n",
              "      <td>-0.636364</td>\n",
              "      <td>-0.072464</td>\n",
              "      <td>0.736842</td>\n",
              "      <td>-1.000000</td>\n",
              "      <td>-1.000000</td>\n",
              "      <td>-1.000000</td>\n",
              "      <td>-1.000000</td>\n",
              "      <td>-1.000000</td>\n",
              "      <td>-1.000000</td>\n",
              "      <td>0</td>\n",
              "    </tr>\n",
              "    <tr>\n",
              "      <th>1403</th>\n",
              "      <td>0</td>\n",
              "      <td>4</td>\n",
              "      <td>1</td>\n",
              "      <td>0.0</td>\n",
              "      <td>0.0</td>\n",
              "      <td>0.0</td>\n",
              "      <td>0.0</td>\n",
              "      <td>0.0</td>\n",
              "      <td>0.0</td>\n",
              "      <td>0.0</td>\n",
              "      <td>0.0</td>\n",
              "      <td>1.0</td>\n",
              "      <td>0.605263</td>\n",
              "      <td>-1.0</td>\n",
              "      <td>-1.0</td>\n",
              "      <td>-1.0</td>\n",
              "      <td>-0.717277</td>\n",
              "      <td>-1.0</td>\n",
              "      <td>-0.317073</td>\n",
              "      <td>-1.0</td>\n",
              "      <td>-0.170732</td>\n",
              "      <td>-1.0</td>\n",
              "      <td>-0.982208</td>\n",
              "      <td>-1.0</td>\n",
              "      <td>-1.0</td>\n",
              "      <td>-1.0</td>\n",
              "      <td>0.244898</td>\n",
              "      <td>-1.0</td>\n",
              "      <td>-0.934890</td>\n",
              "      <td>-1.0</td>\n",
              "      <td>-0.782516</td>\n",
              "      <td>-1.0</td>\n",
              "      <td>-0.960280</td>\n",
              "      <td>-1.0</td>\n",
              "      <td>-0.862197</td>\n",
              "      <td>-1.0</td>\n",
              "      <td>-0.064990</td>\n",
              "      <td>-1.0</td>\n",
              "      <td>-1.0</td>\n",
              "      <td>-0.957340</td>\n",
              "      <td>...</td>\n",
              "      <td>-1.0</td>\n",
              "      <td>-0.333333</td>\n",
              "      <td>-1.0</td>\n",
              "      <td>-0.085714</td>\n",
              "      <td>-1.0</td>\n",
              "      <td>-0.997387</td>\n",
              "      <td>-1.0</td>\n",
              "      <td>-0.992378</td>\n",
              "      <td>-1.0</td>\n",
              "      <td>-0.869210</td>\n",
              "      <td>-1.0</td>\n",
              "      <td>-0.879518</td>\n",
              "      <td>-1.0</td>\n",
              "      <td>-0.979571</td>\n",
              "      <td>-1.0</td>\n",
              "      <td>0.209877</td>\n",
              "      <td>-0.384615</td>\n",
              "      <td>-0.188679</td>\n",
              "      <td>-0.661017</td>\n",
              "      <td>0.285714</td>\n",
              "      <td>0.473684</td>\n",
              "      <td>0.340206</td>\n",
              "      <td>-0.1250</td>\n",
              "      <td>-0.076923</td>\n",
              "      <td>-0.571429</td>\n",
              "      <td>0.560440</td>\n",
              "      <td>0.797980</td>\n",
              "      <td>-0.162393</td>\n",
              "      <td>-0.567568</td>\n",
              "      <td>-0.358209</td>\n",
              "      <td>-0.696970</td>\n",
              "      <td>0.043478</td>\n",
              "      <td>0.473684</td>\n",
              "      <td>-1.000000</td>\n",
              "      <td>-1.000000</td>\n",
              "      <td>-1.000000</td>\n",
              "      <td>-1.000000</td>\n",
              "      <td>-1.000000</td>\n",
              "      <td>-1.000000</td>\n",
              "      <td>0</td>\n",
              "    </tr>\n",
              "    <tr>\n",
              "      <th>1404</th>\n",
              "      <td>0</td>\n",
              "      <td>4</td>\n",
              "      <td>1</td>\n",
              "      <td>0.0</td>\n",
              "      <td>0.0</td>\n",
              "      <td>1.0</td>\n",
              "      <td>0.0</td>\n",
              "      <td>0.0</td>\n",
              "      <td>0.0</td>\n",
              "      <td>0.0</td>\n",
              "      <td>0.0</td>\n",
              "      <td>1.0</td>\n",
              "      <td>0.605263</td>\n",
              "      <td>-1.0</td>\n",
              "      <td>-1.0</td>\n",
              "      <td>-1.0</td>\n",
              "      <td>-1.000000</td>\n",
              "      <td>-1.0</td>\n",
              "      <td>-0.317073</td>\n",
              "      <td>-1.0</td>\n",
              "      <td>-0.317073</td>\n",
              "      <td>-1.0</td>\n",
              "      <td>-0.983255</td>\n",
              "      <td>-1.0</td>\n",
              "      <td>-1.0</td>\n",
              "      <td>-1.0</td>\n",
              "      <td>0.306122</td>\n",
              "      <td>-1.0</td>\n",
              "      <td>-0.944798</td>\n",
              "      <td>-1.0</td>\n",
              "      <td>-0.825160</td>\n",
              "      <td>-1.0</td>\n",
              "      <td>-0.962617</td>\n",
              "      <td>-1.0</td>\n",
              "      <td>-0.891993</td>\n",
              "      <td>-1.0</td>\n",
              "      <td>-0.157233</td>\n",
              "      <td>-1.0</td>\n",
              "      <td>-1.0</td>\n",
              "      <td>-0.959849</td>\n",
              "      <td>...</td>\n",
              "      <td>-1.0</td>\n",
              "      <td>0.345679</td>\n",
              "      <td>-1.0</td>\n",
              "      <td>0.200000</td>\n",
              "      <td>-1.0</td>\n",
              "      <td>-0.997761</td>\n",
              "      <td>-1.0</td>\n",
              "      <td>-0.991997</td>\n",
              "      <td>-1.0</td>\n",
              "      <td>-0.846633</td>\n",
              "      <td>-1.0</td>\n",
              "      <td>-0.807229</td>\n",
              "      <td>-1.0</td>\n",
              "      <td>-0.888448</td>\n",
              "      <td>-1.0</td>\n",
              "      <td>-0.185185</td>\n",
              "      <td>-0.539103</td>\n",
              "      <td>-0.107704</td>\n",
              "      <td>-0.610169</td>\n",
              "      <td>0.050595</td>\n",
              "      <td>0.662281</td>\n",
              "      <td>-0.175258</td>\n",
              "      <td>-0.3750</td>\n",
              "      <td>-0.247863</td>\n",
              "      <td>-0.785714</td>\n",
              "      <td>0.186813</td>\n",
              "      <td>0.777778</td>\n",
              "      <td>-0.247863</td>\n",
              "      <td>-0.470270</td>\n",
              "      <td>-0.149254</td>\n",
              "      <td>-0.515152</td>\n",
              "      <td>0.101449</td>\n",
              "      <td>0.842105</td>\n",
              "      <td>-0.652174</td>\n",
              "      <td>-0.644172</td>\n",
              "      <td>-0.633588</td>\n",
              "      <td>-0.647059</td>\n",
              "      <td>-0.547619</td>\n",
              "      <td>-0.838384</td>\n",
              "      <td>0</td>\n",
              "    </tr>\n",
              "  </tbody>\n",
              "</table>\n",
              "<p>1405 rows × 107 columns</p>\n",
              "</div>"
            ],
            "text/plain": [
              "      AGE_ABOVE65  AGE_PERCENTIL  ...  OXYGEN_SATURATION_DIFF  ICU_final\n",
              "0               1              5  ...               -1.000000          1\n",
              "1               1              5  ...               -1.000000          1\n",
              "2               1              5  ...               -1.000000          1\n",
              "3               1              5  ...               -1.000000          1\n",
              "4               0              0  ...               -0.959596          1\n",
              "...           ...            ...  ...                     ...        ...\n",
              "1400            0              4  ...               -1.000000          0\n",
              "1401            0              4  ...               -1.000000          0\n",
              "1402            0              4  ...               -1.000000          0\n",
              "1403            0              4  ...               -1.000000          0\n",
              "1404            0              4  ...               -0.838384          0\n",
              "\n",
              "[1405 rows x 107 columns]"
            ]
          },
          "metadata": {
            "tags": []
          },
          "execution_count": 9
        }
      ]
    },
    {
      "cell_type": "markdown",
      "metadata": {
        "id": "5E_3hUvoD2xp"
      },
      "source": [
        "Agora temos um *dataset* mais enxuto, pronto para ser usado em nossos modelos de *Machine Learning*. Mas antes de prosseguir, vamos analisar alguns pontos de nossa base de dados bruta."
      ]
    },
    {
      "cell_type": "markdown",
      "metadata": {
        "id": "XVNa-oObqkRs"
      },
      "source": [
        "<a name='explora'></a>\n",
        "## **4. ANÁLISE EXPLORATÓRIA**\n",
        "---\n",
        "\n",
        "A análise exploratória é mais necessária quando estamos trabalhando com dados completamente desconhecidos.\n",
        "\n",
        "No presente estudo já tivemos uma primeira fase de tratamento dos dados feita pela própria equipe do **Hospital Sírio-Libanês**. Além disso o *dataset* foi objeto de estudo e análises exploratórias durante os módulos 4 e 5 do nosso Bootcamp. Os notebooks utilizados ao longo desses módulos podem ser encontrados [aqui](https://github.com/gcochlar/Bootcamp_DataScience/blob/main/Modulo_04/Bootcamp_Mod4_Aula05.ipynb) e [aqui](https://github.com/gcochlar/Bootcamp_DataScience/blob/main/Modulo_05/Bootcamp_Mod5_Aula06.ipynb), com todas as anotações feitas ao longo das aulas.\n",
        "\n",
        "No presente capítulo vamos verificar apenas algumas estatísticas básicas dos dados demográficos da base fornecida, ainda em seu estado bruto."
      ]
    },
    {
      "cell_type": "code",
      "metadata": {
        "id": "TOe0mFumVD39"
      },
      "source": [
        "def formata_grafico(g, titulo='', tit_y='', tit_x='', max_y=275):\n",
        "\n",
        "    plt.suptitle(titulo, fontsize=20, fontweight='bold')\n",
        "    plt.xlabel(tit_x,fontsize=14, fontweight='bold')\n",
        "    plt.ylabel(tit_y,fontsize=14, fontweight='bold')\n",
        "\n",
        "    ax = g.facet_axis(0,0)\n",
        "\n",
        "    for c in ax.containers:\n",
        "        labels = [f'{(v.get_height()):.0f}' for v in c]\n",
        "        ax.bar_label(c, labels=labels, label_type='edge', fontsize=12, fontweight='bold')\n",
        "\n",
        "    plt.ylim(0,max_y)\n",
        "    plt.xticks(fontsize=14, fontweight='bold')\n",
        "    plt.yticks(fontsize=12, fontweight='bold')\n",
        "\n",
        "    plt.show()"
      ],
      "execution_count": 10,
      "outputs": []
    },
    {
      "cell_type": "code",
      "metadata": {
        "id": "b4j8j7LgXjuR"
      },
      "source": [
        "resumo = dados_brutos[['PATIENT_VISIT_IDENTIFIER','GENDER','AGE_PERCENTIL', 'ICU_final']]\n",
        "resumo = resumo.drop_duplicates()\n",
        "resumo.set_index('PATIENT_VISIT_IDENTIFIER', inplace=True)\n",
        "resumo['GENDER'] = resumo['GENDER'].map({0:'Masculino', 1:'Feminino'})\n",
        "resumo['ICU_final'] = resumo['ICU_final'].map({0:'Não Internado', 1:'Internado'})"
      ],
      "execution_count": 11,
      "outputs": []
    },
    {
      "cell_type": "markdown",
      "metadata": {
        "id": "HyaYHuBnOrcB"
      },
      "source": [
        "#### **4.1 Distribuição por Sexo**"
      ]
    },
    {
      "cell_type": "code",
      "metadata": {
        "colab": {
          "base_uri": "https://localhost:8080/",
          "height": 377
        },
        "id": "40nYEgu3VM9k",
        "outputId": "dfaa228a-f9e7-4b31-b648-8399a769236b"
      },
      "source": [
        "#fig, ax = plt.subplots(figsize=(10,5))\n",
        "g = sns.catplot(x='GENDER', kind='count', data=resumo, hue='ICU_final', height=5, aspect=2)\n",
        "formata_grafico(g, titulo='Distribuição por Sexo', tit_y='Quantidade')"
      ],
      "execution_count": 12,
      "outputs": [
        {
          "output_type": "display_data",
          "data": {
            "image/png": "[encoded data removed]",
            "text/plain": [
              "<Figure size 826.875x360 with 1 Axes>"
            ]
          },
          "metadata": {
            "tags": [],
            "needs_background": "light"
          }
        }
      ]
    },
    {
      "cell_type": "markdown",
      "metadata": {
        "id": "NA0DsHWImY-n"
      },
      "source": [
        "Podemos ver uma certa desigualdade na distribuição dos pacientes por sexo, tendo maior participação masculina (243 - 63%) contra 142 (37%) pacientes do sexo feminino. Chama a atenção ainda o fato de que 58% dos pacientes do sexo feminino necessitaram de internação em UTI, o que só ocorreu com 44% dos pacientes masculinos."
      ]
    },
    {
      "cell_type": "markdown",
      "metadata": {
        "id": "QlPaPK22OyAp"
      },
      "source": [
        "#### **4.2 Distribuição por Faixa Etária**"
      ]
    },
    {
      "cell_type": "code",
      "metadata": {
        "colab": {
          "base_uri": "https://localhost:8080/",
          "height": 378
        },
        "id": "piVy3ywrke3z",
        "outputId": "c04a89af-ef49-472c-853f-3cda0668dd57"
      },
      "source": [
        "lista = sorted(resumo.AGE_PERCENTIL.unique())\n",
        "g = sns.catplot(x='AGE_PERCENTIL', kind='count', data=resumo, hue='ICU_final', height=5, aspect=2, order=lista)\n",
        "formata_grafico(g, titulo='Distribuição por Faixa Etária', tit_y='Quantidade', max_y=40)"
      ],
      "execution_count": 13,
      "outputs": [
        {
          "output_type": "display_data",
          "data": {
            "image/png": "[encoded data removed]",
            "text/plain": [
              "<Figure size 826.875x360 with 1 Axes>"
            ]
          },
          "metadata": {
            "tags": [],
            "needs_background": "light"
          }
        }
      ]
    },
    {
      "cell_type": "markdown",
      "metadata": {
        "id": "4VfPOGaQnI2u"
      },
      "source": [
        "Em relação à distribuição por faixa etária, podemos notar um certo equilíbrio na distribuição dos pacientes totais, mas chama a atenção a representação gráfica de algo que foi amplamente divulgado em campanhas de saúde:\n",
        "\n",
        "---\n",
        ">### ***O COVID-19 ataca de forma mais severa os pacientes idosos!***\n",
        "---\n",
        "Isso pode ser claramente observado pelo aumento das barras azuis quanto mais nos deslocamos para a direita do gráfico (maior faixa etária), sinalizando maior necessidade de internações em UTI.\n",
        "\n",
        "Em compensação, as barras laranja, que indicam pacientes que não precisaram de internação em UTI, ficam maiores à esquerda do gráfico, onde temos os pacientes mais jovens."
      ]
    },
    {
      "cell_type": "markdown",
      "metadata": {
        "id": "xShhlu_0qsZu"
      },
      "source": [
        "<a name='testes'></a>\n",
        "## **5. TESTES DE MODELOS**\n",
        "---\n"
      ]
    },
    {
      "cell_type": "markdown",
      "metadata": {
        "id": "6ZQu9_heNVy7"
      },
      "source": [
        "Agora que já preparamos a base de dados que iremos usar para treinar e testar nossos modelos de *Machine Learning*, vamos estabelecer quais modelos iremos testar inicialmente, apenas com seus parâmetros *default*. Depois iremos refinar os parâmetros daqueles que apresentarem os melhores resultados.\n",
        "\n",
        "Vamos avaliar 4 modelos e compará-los ao nosso *baseline*, que é o modelo *dummy*. Serão:\n",
        "* **`DummyClassifier`**: nosso modelo *dummy* que serve de *baseline* para comparações\n",
        "* **`LogisticRegression`**: modelo de Regressão Logística\n",
        "* **`DecisionTreeClassifier`**: modelo de Árvore de Decisão\n",
        "* **`ExtraTreesClassifier`**: modelo que gera um conjunto randômico de Árvores de Decisão\n",
        "* **`RandomForestClassifier`**: modelo que gera um conjunto randômico de Árvores de Decisão\n",
        "\n",
        "Os modelos **`ExtraTreesClassifier`** e **`RandomForestClassifier`** são semelhantes, mas divergem na maneira com que o fator aleatório é utilizado.\n",
        "\n",
        "No **`RandomForestClassifier`** a aleatoriedade gera árvores a partir de subconjuntos das variáveis e depois, para cada árvore, busca encontrar a variável e o valor que irá permitir uma divisão mais equilibrada dentro dos dados restantes.\n",
        "\n",
        "Já no modelo **`ExtraTreesClassifier`**, a aleatoriedade é aplicada na geração das árvores e depois novamente para selecionar os valores de separação das variáveis que irão gerar os \"galhos\". O modelo escolhe, entre os gerados, aquele que apresentar um melhor equilíbrio.\n",
        "\n",
        "Os modelos randômicos, em função da aleatoriedade presente, reduzem significativamente o risco de **overfit** na parametrização do modelo."
      ]
    },
    {
      "cell_type": "code",
      "metadata": {
        "id": "0GwOcepTNYqR"
      },
      "source": [
        "mod_Dummy = DummyClassifier()\n",
        "mod_LR = LogisticRegression()\n",
        "mod_DT = DecisionTreeClassifier()\n",
        "mod_ETC = ExtraTreesClassifier()\n",
        "mod_RFC = RandomForestClassifier()"
      ],
      "execution_count": 14,
      "outputs": []
    },
    {
      "cell_type": "markdown",
      "metadata": {
        "id": "LHIZV3FHNSeW"
      },
      "source": [
        "Estabelecidos os modelos que iremos trabalhar, vamos criar uma função para rodar *n* vezes cada um e assim permitir que tenhamos uma média de acurácia para compará-los, lembrando que nesse momento não faremos nenhuma alteração nos parâmetros *default*."
      ]
    },
    {
      "cell_type": "code",
      "metadata": {
        "id": "FrE6dognlcNQ"
      },
      "source": [
        "@ignore_warnings(category=ConvergenceWarning)\n",
        "def roda_n_modelos(modelo, dados, n):\n",
        "    x_columns = dados.columns\n",
        "    y = dados['ICU_final']\n",
        "    x = dados[x_columns].drop(['ICU_final'], axis = 1)\n",
        "\n",
        "    auc_lista = []\n",
        "\n",
        "    np.random.seed(3874541)\n",
        "\n",
        "    for _ in range(n):\n",
        "        x_train, x_test, y_train, y_test = train_test_split(x, y, stratify = y)\n",
        "\n",
        "        modelo.fit(x_train, y_train)\n",
        "        prob_predic = modelo.predict_proba(x_test)\n",
        "        auc = roc_auc_score(y_test, prob_predic[:,1])\n",
        "        auc_lista.append(auc)\n",
        "\n",
        "    auc_medio = np.mean(auc_lista)\n",
        "    auc_std = np.std(auc_lista)\n",
        "    print(f'Resultados após {n} execuções')\n",
        "    print(f'AUC Médio {auc_medio}')\n",
        "    print(f'Intervalo {auc_medio - 2 * auc_std} a {auc_medio + 2 * auc_std}')\n",
        "    print(f'Range     {4 * auc_std}')"
      ],
      "execution_count": 15,
      "outputs": []
    },
    {
      "cell_type": "code",
      "metadata": {
        "colab": {
          "base_uri": "https://localhost:8080/"
        },
        "id": "rcCMjZbJlst2",
        "outputId": "adbc6ee9-fa49-45b0-fbc0-77c72754e0c3"
      },
      "source": [
        "roda_n_modelos(mod_Dummy, dados_limpos_sem_corr, 100)"
      ],
      "execution_count": 16,
      "outputs": [
        {
          "output_type": "stream",
          "text": [
            "Resultados após 100 execuções\n",
            "AUC Médio 0.5016226380480646\n",
            "Intervalo 0.4507539831219201 a 0.5524912929742091\n",
            "Range     0.10173730985228899\n"
          ],
          "name": "stdout"
        }
      ]
    },
    {
      "cell_type": "code",
      "metadata": {
        "colab": {
          "base_uri": "https://localhost:8080/"
        },
        "id": "XLl_Lzy-m4OD",
        "outputId": "246b3b3f-594d-4893-b066-ad75bab3e08d"
      },
      "source": [
        "roda_n_modelos(mod_LR, dados_limpos_sem_corr, 100)"
      ],
      "execution_count": 17,
      "outputs": [
        {
          "output_type": "stream",
          "text": [
            "Resultados após 100 execuções\n",
            "AUC Médio 0.8457525224729407\n",
            "Intervalo 0.8105833749309067 a 0.8809216700149748\n",
            "Range     0.07033829508406801\n"
          ],
          "name": "stdout"
        }
      ]
    },
    {
      "cell_type": "code",
      "metadata": {
        "colab": {
          "base_uri": "https://localhost:8080/"
        },
        "id": "Tqr-2hg3n6T6",
        "outputId": "15f2059a-cb8d-47bd-c7f4-fdbf65f22342"
      },
      "source": [
        "roda_n_modelos(mod_DT, dados_limpos_sem_corr, 100)"
      ],
      "execution_count": 18,
      "outputs": [
        {
          "output_type": "stream",
          "text": [
            "Resultados após 100 execuções\n",
            "AUC Médio 0.9310104567969181\n",
            "Intervalo 0.8936582654316299 a 0.9683626481622063\n",
            "Range     0.07470438273057642\n"
          ],
          "name": "stdout"
        }
      ]
    },
    {
      "cell_type": "code",
      "metadata": {
        "colab": {
          "base_uri": "https://localhost:8080/"
        },
        "id": "fMWWUpKzn6RR",
        "outputId": "dceeaedd-6eca-4ce7-da8a-e2271be0f206"
      },
      "source": [
        "roda_n_modelos(mod_ETC, dados_limpos_sem_corr, 100)"
      ],
      "execution_count": 19,
      "outputs": [
        {
          "output_type": "stream",
          "text": [
            "Resultados após 100 execuções\n",
            "AUC Médio 0.9947365620986975\n",
            "Intervalo 0.9873026650804276 a 1.0021704591169676\n",
            "Range     0.014867794036539848\n"
          ],
          "name": "stdout"
        }
      ]
    },
    {
      "cell_type": "code",
      "metadata": {
        "colab": {
          "base_uri": "https://localhost:8080/"
        },
        "id": "vzBK_zsvn6OQ",
        "outputId": "ef386308-c0d8-451c-d955-bedc97300baf"
      },
      "source": [
        "roda_n_modelos(mod_RFC, dados_limpos_sem_corr, 100)"
      ],
      "execution_count": 20,
      "outputs": [
        {
          "output_type": "stream",
          "text": [
            "Resultados após 100 execuções\n",
            "AUC Médio 0.9926422674738579\n",
            "Intervalo 0.9842517373776709 a 1.0010327975700448\n",
            "Range     0.01678106019237382\n"
          ],
          "name": "stdout"
        }
      ]
    },
    {
      "cell_type": "markdown",
      "metadata": {
        "id": "RbvwbhDsutR0"
      },
      "source": [
        "Os modelos **`ExtraTreesClassifier`** e **`RandomForestClassifier`** apresentaram resultados semelhantes e excelentes, inclusive deixando pouco espaço para melhorias.\n",
        "\n",
        "Mas não havia expectativas de acurácias tão elevadas. Esse resultado pode ter sido provocado por uma separação benéfica dos dados de treino e teste.\n",
        "\n",
        "Para evitar isso, vamos submeter os modelos e nossos dados a uma validação cruzada. Basicamente ela funciona da seguinte forma: nós separamos o nosso *dataset* em diversos pedaços e repetimos o *fit* do modelo diversas vezes, alternando os pedaços que usamos para treino e teste, como podemos ver na figura abaixo.\n",
        "\n",
        "<img src='https://github.com/gcochlar/COVID19_Predict_ICU/raw/main/images/CrossValidation.JPG' width='500px' height='300px'>\n",
        "\n",
        "Na figura exemplo, a base de dados é dividida em 5 blocos e, a cada execução, o bloco em cinza é usado para testes, obtendo acurácias diferentes. O resultado do modelo será a média das acurácias obtidas.\n",
        "\n",
        "Vamos aproveitar o momento para também trazer um pouco de aleatoriedade na definição dos melhores parâmetros de cada modelo, usando uma nova função. Essa nova função realiza duas alterações significativas no teste dos modelos:\n",
        "\n",
        "1. **Separação dos Dados:** vamos fazer 10 separações e 10 repetições dos dados de treino e teste, de forma aleatória. Como iremos verificar a média da acurácia obtida para os diferentes conjuntos de dados, isso diminui a chance do modelo ser favorecido ou desfavorecido pelo conjunto de dados utilizado.\n",
        "\n",
        "2. **Parametrização:** vamos passar alguns parâmetros com intervalos de valores diferentes e pedir para modelo treinar com 10 combinações diferentes, de forma aleatória, buscando um melhor resultado.\n",
        "\n",
        "Além dos dois modelos, vamos fazer o mesmo com o modelo de Árvore de Decisão, para efeitos de comparação."
      ]
    },
    {
      "cell_type": "code",
      "metadata": {
        "id": "XjMeBFapV-G5"
      },
      "source": [
        "def roda_modelo_RandomizedSearchCV(modelo, dados, n_splits, n_repeats, espaco_de_parametros, n_iter):\n",
        "\n",
        "    np.random.seed(3874541)\n",
        "    dados = dados.sample(frac=1).reset_index(drop=True)\n",
        "    x_columns = dados.columns\n",
        "    y = dados['ICU_final']\n",
        "    x = dados[x_columns].drop(['ICU_final'], axis=1)\n",
        "\n",
        "    cv = RepeatedStratifiedKFold(n_splits = n_splits, n_repeats=n_repeats)\n",
        "\n",
        "    busca = RandomizedSearchCV(modelo, param_distributions=espaco_de_parametros,\n",
        "                                n_iter = n_iter, cv = cv, scoring='roc_auc',\n",
        "                                return_train_score=True)\n",
        "    busca.fit(x, y)\n",
        "\n",
        "    resultados = pd.DataFrame(busca.cv_results_)\n",
        "\n",
        "    return resultados, busca    "
      ],
      "execution_count": 21,
      "outputs": []
    },
    {
      "cell_type": "code",
      "metadata": {
        "id": "oOrjd8J-WnOd"
      },
      "source": [
        "np.random.seed(3874541)\n",
        "    \n",
        "param_DT = {'max_depth':randint(2,25)}\n",
        "\n",
        "param_ETC = {\n",
        "    'n_estimators' :randint(100, 750),\n",
        "    'max_depth' : randint(3, 15),\n",
        "    'min_samples_split' : randint(2, 15),\n",
        "    'min_samples_leaf' : randint(1, 10),\n",
        "    'bootstrap' : [True, False],\n",
        "    'criterion' : ['gini', 'entropy']}\n",
        "\n",
        "param_RFC = {\n",
        "    'n_estimators' :randint(100, 750),\n",
        "    'max_depth' : randint(3, 15),\n",
        "    'min_samples_split' : randint(2, 10),\n",
        "    'min_samples_leaf' : randint(1, 15),\n",
        "    'bootstrap' : [True, False],\n",
        "    'criterion' : ['gini', 'entropy']}"
      ],
      "execution_count": 22,
      "outputs": []
    },
    {
      "cell_type": "markdown",
      "metadata": {
        "id": "M4mkBp92QK-J"
      },
      "source": [
        "É importante destacar que essa fase é bem demorada e pode gerar o *time out* do processamento se estiver sendo utilizado o **Google Colab**. Os tempos aproximados para processamento dos modelos abaixo são:\n",
        "* **Decision Tree Classifier:** 35 segundos\n",
        "* **Extra Trees Classifier:** 15 minutos\n",
        "* **Random Forest Classifier:** 30 minutos"
      ]
    },
    {
      "cell_type": "code",
      "metadata": {
        "id": "Symbmj_SMlQ8"
      },
      "source": [
        "res_DT, busca_DT = roda_modelo_RandomizedSearchCV(mod_DT, dados_limpos_sem_corr, 10, 10, param_DT, 10)"
      ],
      "execution_count": 23,
      "outputs": []
    },
    {
      "cell_type": "code",
      "metadata": {
        "id": "tJruJ_O-0cpc"
      },
      "source": [
        "res_ETC, busca_ETC = roda_modelo_RandomizedSearchCV(mod_ETC, dados_limpos_sem_corr, 10, 10, param_ETC, 10)"
      ],
      "execution_count": 24,
      "outputs": []
    },
    {
      "cell_type": "code",
      "metadata": {
        "id": "8aV44Hid0cm2"
      },
      "source": [
        "res_RFC, busca_RFC = roda_modelo_RandomizedSearchCV(mod_RFC, dados_limpos_sem_corr, 10, 10, param_RFC, 10)"
      ],
      "execution_count": 25,
      "outputs": []
    },
    {
      "cell_type": "markdown",
      "metadata": {
        "id": "QNKzdp-iuIBF"
      },
      "source": [
        "Processados os modelos, vamos ver como a melhor combinação de parâmetros de cada um se comportou em termos de acurácia, tanto pelo *score* médio atingido quanto pelo desvio padrão das iterações com os diferentes conjuntos de dados para treino e teste."
      ]
    },
    {
      "cell_type": "code",
      "metadata": {
        "id": "actDF7ghSGBF"
      },
      "source": [
        "def report(res_modelo, busca_modelo, nome_modelo):\n",
        "    print(f'\\n{nome_modelo}')\n",
        "    auc_medio = res_modelo.iloc[busca_modelo.best_index_][['mean_test_score']][0]\n",
        "    auc_std = res_modelo.iloc[busca_modelo.best_index_][['std_test_score']][0]\n",
        "\n",
        "    print(f'AUC Médio {auc_medio}')\n",
        "    print(f'Intervalo {auc_medio - 2 * auc_std} a {auc_medio + 2 * auc_std}')\n",
        "    print(f'Range     {4 * auc_std}')\n",
        "    with pd.option_context('max_colwidth', None):\n",
        "        print(f'Parâmetros: {res_modelo.iloc[busca_modelo.best_index_][[\"params\"]][0]}')"
      ],
      "execution_count": 26,
      "outputs": []
    },
    {
      "cell_type": "code",
      "metadata": {
        "colab": {
          "base_uri": "https://localhost:8080/"
        },
        "id": "fSWeVlVdS5Gn",
        "outputId": "56f87a23-7d90-4b60-aa83-f0110ad0e280"
      },
      "source": [
        "report(res_DT, busca_DT, 'Decision Tree Classifier')"
      ],
      "execution_count": 27,
      "outputs": [
        {
          "output_type": "stream",
          "text": [
            "\n",
            "Decision Tree Classifier\n",
            "AUC Médio 0.9501647840693315\n",
            "Intervalo 0.9070220167901923 a 0.9933075513484706\n",
            "Range     0.08628553455827821\n",
            "Parâmetros: {'max_depth': 23}\n"
          ],
          "name": "stdout"
        }
      ]
    },
    {
      "cell_type": "code",
      "metadata": {
        "colab": {
          "base_uri": "https://localhost:8080/"
        },
        "id": "pA9LxxokT-cx",
        "outputId": "455ed934-dbf6-49ef-b06e-e60afed104e0"
      },
      "source": [
        "report(res_ETC, busca_ETC, 'Extra Trees Classifier')"
      ],
      "execution_count": 28,
      "outputs": [
        {
          "output_type": "stream",
          "text": [
            "\n",
            "Extra Trees Classifier\n",
            "AUC Médio 0.9790489799892886\n",
            "Intervalo 0.9548621658778973 a 1.00323579410068\n",
            "Range     0.04837362822278278\n",
            "Parâmetros: {'bootstrap': False, 'criterion': 'entropy', 'max_depth': 12, 'min_samples_leaf': 4, 'min_samples_split': 7, 'n_estimators': 693}\n"
          ],
          "name": "stdout"
        }
      ]
    },
    {
      "cell_type": "code",
      "metadata": {
        "colab": {
          "base_uri": "https://localhost:8080/"
        },
        "id": "6S62SBNvUE9i",
        "outputId": "e5b3744d-87fd-4adf-f100-2310e825eb51"
      },
      "source": [
        "report(res_RFC, busca_RFC, 'Random Forest Classifier')"
      ],
      "execution_count": 29,
      "outputs": [
        {
          "output_type": "stream",
          "text": [
            "\n",
            "Random Forest Classifier\n",
            "AUC Médio 0.995669604167681\n",
            "Intervalo 0.9875167551532869 a 1.0038224531820752\n",
            "Range     0.016305698028788333\n",
            "Parâmetros: {'bootstrap': False, 'criterion': 'entropy', 'max_depth': 12, 'min_samples_leaf': 4, 'min_samples_split': 7, 'n_estimators': 693}\n"
          ],
          "name": "stdout"
        }
      ]
    },
    {
      "cell_type": "markdown",
      "metadata": {
        "id": "oD5LPkBZY6Ox"
      },
      "source": [
        "Como podemos ver pelos resultados acima, o modelo **`ExtraTreesClassifier`** piorou um pouco seus resultados com alterações nos parâmetros e deixou de ser o melhor modelo, perdendo acurácia e aumentando o desvio padrão.\n",
        "\n",
        "O modelo  **`RandomForestClassifier`** melhorou um pouco, tanto em termos de resultado médio quanto em relação ao desvio padrão dos resultados obtidos. Com isso passou a ser o melhor modelo.\n",
        "\n",
        "O interessante é que os parâmetros selecionados como sendo a melhor combinação foram idênticos para ambos os modelos.\n",
        "\n",
        "O modelo **`DecisionTreeClassifier`** melhorou um pouco o seu *score* mas aumentou o desvio de padrão com o aumento de profundidade da árvore (único parâmetro alterado). Isso pode ser um indicativo de **overfit**.\n",
        "\n",
        "Vamos plotar graficamente os resultados obtidos com as 100 iterações que foram feitas usando o melhor conjunto de parâmetros de cada modelo para analisar."
      ]
    },
    {
      "cell_type": "code",
      "metadata": {
        "id": "d4X5F2SD9r33"
      },
      "source": [
        "DT_melhor_result_teste = res_DT.iloc[busca_DT.best_index_,6:106].to_list()\n",
        "ETC_melhor_result_teste = res_ETC.iloc[busca_ETC.best_index_,11:111].to_list()\n",
        "RFC_melhor_result_teste = res_RFC.iloc[busca_RFC.best_index_,11:111].to_list()"
      ],
      "execution_count": 30,
      "outputs": []
    },
    {
      "cell_type": "code",
      "metadata": {
        "colab": {
          "base_uri": "https://localhost:8080/",
          "height": 417
        },
        "id": "Bovb59QFFyMJ",
        "outputId": "54ac844b-753a-447e-9469-a16d28a4e3c2"
      },
      "source": [
        "plt.plot(DT_melhor_result_teste, color = 'green', label='Decision Tree')\n",
        "plt.hlines(np.mean(DT_melhor_result_teste), 0, 100, color='green', ls='--')\n",
        "\n",
        "plt.plot(ETC_melhor_result_teste, color = 'red', label='Extra Trees Classifier')\n",
        "plt.hlines(np.mean(ETC_melhor_result_teste), 0, 100, color='red', ls='--')\n",
        "\n",
        "plt.plot(RFC_melhor_result_teste, color = 'blue', label='Random Forest Classifier')\n",
        "plt.hlines(np.mean(RFC_melhor_result_teste), 0, 100, color='blue', ls='--')\n",
        "\n",
        "plt.suptitle('AUC Score de cada modelo (com melhores parâmetros)', fontsize=25, fontweight='bold')\n",
        "\n",
        "handles, labels = plt.gca().get_legend_handles_labels()\n",
        "plt.legend([handles[idx] for idx in [2,1,0]],[labels[idx] for idx in [2,1,0]],\n",
        "           fontsize = 15, loc='upper right',bbox_to_anchor=(1.4, 1.02))\n",
        "\n",
        "plt.show()"
      ],
      "execution_count": 48,
      "outputs": [
        {
          "output_type": "display_data",
          "data": {
            "image/png": "[encoded data removed]",
            "text/plain": [
              "<Figure size 864x432 with 1 Axes>"
            ]
          },
          "metadata": {
            "tags": [],
            "needs_background": "light"
          }
        }
      ]
    },
    {
      "cell_type": "markdown",
      "metadata": {
        "id": "zvUy3-cob8XC"
      },
      "source": [
        "Graficamente podemos ver com mais facilidade a superioridade do modelo **`RandomForestClassifier`** em dois quesitos:\n",
        "* média superior, próxima aos 100% de acerto\n",
        "* menor desvio padrão, visível na baixa amplitude das linhas\n",
        "\n",
        "O pior resultado único obtido por esse modelo ainda é melhor do que a média do modelo **`ExtraTreesClassifier`**, que ficou em segundo lugar.\n",
        "\n",
        "É interessante também observar a maior amplitude dos resultados obtidos pelo modelo **`DecisionTreeClassifier`**. Esse alto desvio padrão diminui a confiabilidade do modelo."
      ]
    },
    {
      "cell_type": "markdown",
      "metadata": {
        "id": "ra2fmy28quA0"
      },
      "source": [
        "<a name='melhor'></a>\n",
        "## **6. APLICANDO O MELHOR MODELO**\n",
        "---\n"
      ]
    },
    {
      "cell_type": "markdown",
      "metadata": {
        "id": "QERt-0ITdNX-"
      },
      "source": [
        "Vamos agora configurar o modelo **`RandomForestClassifier`** com os melhores parâmetros identificados, treiná-lo e verificar se os resultados obtidos são consistentes.\n",
        "\n",
        "Para isso vamos começar recuperando os parâmetros utilizados no modelo que teve o melhor desempenho."
      ]
    },
    {
      "cell_type": "code",
      "metadata": {
        "colab": {
          "base_uri": "https://localhost:8080/"
        },
        "id": "dAqxduDhN77w",
        "outputId": "afb9ee8e-0368-4ff2-9f18-9ff6e98583e1"
      },
      "source": [
        "report(res_RFC, busca_RFC, 'Random Forest Classifier')"
      ],
      "execution_count": 32,
      "outputs": [
        {
          "output_type": "stream",
          "text": [
            "\n",
            "Random Forest Classifier\n",
            "AUC Médio 0.995669604167681\n",
            "Intervalo 0.9875167551532869 a 1.0038224531820752\n",
            "Range     0.016305698028788333\n",
            "Parâmetros: {'bootstrap': False, 'criterion': 'entropy', 'max_depth': 12, 'min_samples_leaf': 4, 'min_samples_split': 7, 'n_estimators': 693}\n"
          ],
          "name": "stdout"
        }
      ]
    },
    {
      "cell_type": "markdown",
      "metadata": {
        "id": "izwncFcnyHTG"
      },
      "source": [
        "Vamos parametrizar nosso modelo final com esses valores."
      ]
    },
    {
      "cell_type": "code",
      "metadata": {
        "id": "Gf95Cdf9OiPL"
      },
      "source": [
        "mod_final = RandomForestClassifier(bootstrap=False, criterion='entropy',\n",
        "                                 n_estimators=693,\n",
        "                                 max_depth=12,\n",
        "                                 min_samples_split=7,\n",
        "                                 min_samples_leaf=4)"
      ],
      "execution_count": 33,
      "outputs": []
    },
    {
      "cell_type": "markdown",
      "metadata": {
        "id": "HJy9kpkv2zwA"
      },
      "source": [
        "Seguindo o que fizemos anteriormente, para evitar o resultado a partir de uma única execução, vamos colocar o modelo para rodar diversas vezes e verificar o resultado médio que teremos."
      ]
    },
    {
      "cell_type": "code",
      "metadata": {
        "colab": {
          "base_uri": "https://localhost:8080/"
        },
        "id": "AsMjsAvAPYgl",
        "outputId": "24b34fee-77be-46d6-ac36-5bb14112fb49"
      },
      "source": [
        "roda_n_modelos(mod_final, dados_limpos_sem_corr, 100)"
      ],
      "execution_count": 34,
      "outputs": [
        {
          "output_type": "stream",
          "text": [
            "Resultados após 100 execuções\n",
            "AUC Médio 0.9910882406897815\n",
            "Intervalo 0.978031169684253 a 1.00414531169531\n",
            "Range     0.026114142011057204\n"
          ],
          "name": "stdout"
        }
      ]
    },
    {
      "cell_type": "markdown",
      "metadata": {
        "id": "DgvKCdPaodGT"
      },
      "source": [
        "Vamos agora treinar o modelo final para deixá-lo pronto para utilização e fazer a avaliação final do seu desempenho."
      ]
    },
    {
      "cell_type": "code",
      "metadata": {
        "colab": {
          "base_uri": "https://localhost:8080/"
        },
        "id": "EM8wWPJ0QfHR",
        "outputId": "fec2d164-5a88-4d26-c9df-95c09ae31457"
      },
      "source": [
        "y = dados_limpos_sem_corr['ICU_final']\n",
        "x = dados_limpos_sem_corr.drop(['ICU_final'], axis = 1)\n",
        "\n",
        "np.random.seed(3874541)\n",
        "\n",
        "x_treino, x_teste, y_treino, y_teste = train_test_split(x, y, stratify = y)\n",
        "mod_final.fit(x_treino, y_treino)"
      ],
      "execution_count": 35,
      "outputs": [
        {
          "output_type": "execute_result",
          "data": {
            "text/plain": [
              "RandomForestClassifier(bootstrap=False, ccp_alpha=0.0, class_weight=None,\n",
              "                       criterion='entropy', max_depth=12, max_features='auto',\n",
              "                       max_leaf_nodes=None, max_samples=None,\n",
              "                       min_impurity_decrease=0.0, min_impurity_split=None,\n",
              "                       min_samples_leaf=4, min_samples_split=7,\n",
              "                       min_weight_fraction_leaf=0.0, n_estimators=693,\n",
              "                       n_jobs=None, oob_score=False, random_state=None,\n",
              "                       verbose=0, warm_start=False)"
            ]
          },
          "metadata": {
            "tags": []
          },
          "execution_count": 35
        }
      ]
    },
    {
      "cell_type": "markdown",
      "metadata": {
        "id": "1kZgV2A3P18a"
      },
      "source": [
        "Treinado o modelo, vamos verificar como ele se sai em termos de acurácia contra os dados de teste."
      ]
    },
    {
      "cell_type": "code",
      "metadata": {
        "id": "1SSsYFAg20xG",
        "colab": {
          "base_uri": "https://localhost:8080/"
        },
        "outputId": "c4c75664-50b7-49f9-81b2-e1cbbe1c1a82"
      },
      "source": [
        "y_prev = mod_final.predict(x_teste)\n",
        "accuracy_score(y_teste, y_prev)"
      ],
      "execution_count": 38,
      "outputs": [
        {
          "output_type": "execute_result",
          "data": {
            "text/plain": [
              "0.9346590909090909"
            ]
          },
          "metadata": {
            "tags": []
          },
          "execution_count": 38
        }
      ]
    },
    {
      "cell_type": "markdown",
      "metadata": {
        "id": "3zaf8zNOP9by"
      },
      "source": [
        "O resultado de 93% é um ótimo resultado, mas vamos abrir esse resultado para entender melhor o que o modelo errou e onde acertou."
      ]
    },
    {
      "cell_type": "code",
      "metadata": {
        "colab": {
          "base_uri": "https://localhost:8080/"
        },
        "id": "eyyKWdPLTXpc",
        "outputId": "cace56de-c71c-40de-a22b-aa92ac61d957"
      },
      "source": [
        "print(classification_report(y_teste, y_prev))"
      ],
      "execution_count": 40,
      "outputs": [
        {
          "output_type": "stream",
          "text": [
            "              precision    recall  f1-score   support\n",
            "\n",
            "           0       0.92      0.99      0.95       237\n",
            "           1       0.98      0.82      0.89       115\n",
            "\n",
            "    accuracy                           0.93       352\n",
            "   macro avg       0.95      0.90      0.92       352\n",
            "weighted avg       0.94      0.93      0.93       352\n",
            "\n"
          ],
          "name": "stdout"
        }
      ]
    },
    {
      "cell_type": "markdown",
      "metadata": {
        "id": "odVytghSQWCL"
      },
      "source": [
        "Olhando de maneira detalhada podemos perceber alguns pontos em nosso modelo que nos chamam a atenção.\n",
        "\n",
        "Apesar de 93%, isso se dá em cima de um baixo resultado de ***recall*** justamente para a variável com resultado 1, ou seja, tivemos 18% de casos em que foi necessária a internação em UTI e o modelo fez a previsão de que seria desnecessário.\n",
        "\n",
        "Vamos ver isso melhor usando a matriz de confusão, abaixo."
      ]
    },
    {
      "cell_type": "code",
      "metadata": {
        "colab": {
          "base_uri": "https://localhost:8080/",
          "height": 513
        },
        "id": "cPDxtIgltID_",
        "outputId": "30d8ad3f-506c-4b99-e37b-b7dcf7d5fe7b"
      },
      "source": [
        "fig, ax = plt.subplots(nrows=2, ncols=2,figsize=(16, 8))\n",
        "plot_confusion_matrix(mod_final, x_teste, y_teste, ax=ax[0,0], values_format='.0f')\n",
        "ax[0,0].set_title('Quantidades')\n",
        "plot_confusion_matrix(mod_final, x_teste, y_teste, ax=ax[0,1], values_format='.2%', normalize= 'all')\n",
        "ax[0,1].set_title('% Totais')\n",
        "plot_confusion_matrix(mod_final, x_teste, y_teste, ax=ax[1,0], values_format='.2%', normalize= 'true')\n",
        "ax[1,0].set_title('% das Linhas - Recall')\n",
        "plot_confusion_matrix(mod_final, x_teste, y_teste, ax=ax[1,1], values_format='.2%', normalize= 'pred')\n",
        "ax[1,1].set_title('% das Colunas - Precision')\n",
        "plt.subplots_adjust(hspace = 0.3)\n",
        "plt.show()"
      ],
      "execution_count": 102,
      "outputs": [
        {
          "output_type": "display_data",
          "data": {
            "image/png": "[encoded data removed]",
            "text/plain": [
              "<Figure size 1152x576 with 8 Axes>"
            ]
          },
          "metadata": {
            "tags": [],
            "needs_background": "light"
          }
        }
      ]
    },
    {
      "cell_type": "markdown",
      "metadata": {
        "id": "vl9_x1EvRTSX"
      },
      "source": [
        "Graficamente fica mais fácil de entender.\n",
        "\n",
        "Olhando o gráfico de ***recall*** (embaixo, à esquerda) podemos ver que o modelo acertou 99% dos casos em que o paciente poderia ser liberado, mas só acertou 82% dos casos em que o paciente precisaria de uma internação em UTI.\n",
        "\n",
        "Isso significa que tivemos 2 casos de falso positivo, mas tivemos 21 casos de falso negativo, o que poderia levar a um subdimensionamento da estrutura de UTI.\n",
        "\n",
        "Vamos verificar como ficou o desempenho do modelo usando a métrica ROC e da área sob a curva (AUC), comparando com o desempenho dos modelos *Dummy* e de Regressão Logística."
      ]
    },
    {
      "cell_type": "code",
      "metadata": {
        "colab": {
          "base_uri": "https://localhost:8080/"
        },
        "id": "oN2CSSv9Rwih",
        "outputId": "074567d9-4b05-4a61-ec8b-5ad78ec5660a"
      },
      "source": [
        "prob_predic = mod_final.predict_proba(x_teste)\n",
        "auc = roc_auc_score(y_teste, prob_predic[:,1])\n",
        "auc"
      ],
      "execution_count": 36,
      "outputs": [
        {
          "output_type": "execute_result",
          "data": {
            "text/plain": [
              "0.9893230599889928"
            ]
          },
          "metadata": {
            "tags": []
          },
          "execution_count": 36
        }
      ]
    },
    {
      "cell_type": "code",
      "metadata": {
        "colab": {
          "base_uri": "https://localhost:8080/",
          "height": 502
        },
        "id": "MgIWQdXPfsrj",
        "outputId": "103d4181-f951-4928-a7f7-0ea5785e3522"
      },
      "source": [
        "fig, ax = plt.subplots(figsize = (16,8))\n",
        "np.random.seed(3874541)\n",
        "plot_roc_curve(mod_Dummy, x_teste, y_teste, ax=ax, color='red', ls='--', lw=2)\n",
        "plot_roc_curve(mod_LR, x_teste, y_teste, ax=ax, color='blue', ls='solid', lw=2)\n",
        "plot_roc_curve(mod_final, x_teste, y_teste, ax=ax, color='green', ls='solid', lw=2)\n",
        "plt.xlabel('Taxa de Falso Positivo', fontsize=15, fontweight='bold')\n",
        "plt.ylabel('Taxa de Verdadeiro Positivo', fontsize=15, fontweight='bold')\n",
        "plt.show()"
      ],
      "execution_count": 91,
      "outputs": [
        {
          "output_type": "display_data",
          "data": {
            "image/png": "[encoded data removed]",
            "text/plain": [
              "<Figure size 1152x576 with 1 Axes>"
            ]
          },
          "metadata": {
            "tags": [],
            "needs_background": "light"
          }
        }
      ]
    },
    {
      "cell_type": "markdown",
      "metadata": {
        "id": "n_IKzRGHTAEN"
      },
      "source": [
        "Essa métrica de desempenho nos indica um modelo quase perfeito, com baixíssimo índice de erros, mas como vimos anteriormente, isso não é bem verdade.\n",
        "\n",
        "Vamos buscar uma métrica mais indicada para modelos de classificação binária.\n",
        "\n",
        "O Coeficiente de Correlação de Matthews leva em consideração os resultados certos e errados, tanto dos valores positivos quando dos negativos. Ele varia entre -1 (previsão inversa) até 1 (previsão perfeita)."
      ]
    },
    {
      "cell_type": "code",
      "metadata": {
        "colab": {
          "base_uri": "https://localhost:8080/"
        },
        "id": "89mblkex7Jid",
        "outputId": "547e7850-0850-4eb0-8301-43030f49feb5"
      },
      "source": [
        "from sklearn.metrics import matthews_corrcoef\n",
        "\n",
        "matthews_corrcoef(y_teste, y_prev)"
      ],
      "execution_count": 49,
      "outputs": [
        {
          "output_type": "execute_result",
          "data": {
            "text/plain": [
              "0.8519037066452709"
            ]
          },
          "metadata": {
            "tags": []
          },
          "execution_count": 49
        }
      ]
    },
    {
      "cell_type": "markdown",
      "metadata": {
        "id": "h3d5bqlcUHh9"
      },
      "source": [
        "Tivemos um resultado bem alto para o Coeficiente de Correlação de Matthews.\n",
        "\n",
        "Com isso considero que o modelo está pronto para avançar aos próximos passos.\n",
        "\n",
        "Vamos verificar quais foram as variáveis consideradas mais importantes pelo nosso modelo, para classificar os nossos pacientes."
      ]
    },
    {
      "cell_type": "code",
      "metadata": {
        "id": "zPjPNm73KfCZ"
      },
      "source": [
        "importances = mod_final.feature_importances_\n",
        "std = np.std([\n",
        "    tree.feature_importances_ for tree in mod_final.estimators_], axis=0)\n",
        "lista_vars = x_treino.columns\n"
      ],
      "execution_count": 52,
      "outputs": []
    },
    {
      "cell_type": "code",
      "metadata": {
        "colab": {
          "base_uri": "https://localhost:8080/",
          "height": 672
        },
        "id": "9moZS-sUKq0_",
        "outputId": "1de2e7fa-ed27-4eb6-9b5a-e02f228316b8"
      },
      "source": [
        "forest_importances = pd.Series(importances, index=lista_vars)\n",
        "\n",
        "fig, ax = plt.subplots(figsize=(15,8))\n",
        "forest_importances.sort_values(ascending=False)[:10].plot.bar(ax=ax)\n",
        "ax.set_title('10 Variáveis Mais Importantes', fontsize=25, fontweight='bold')\n",
        "ax.set_ylabel('Decréscimo Médio de Impureza', fontsize=15, fontweight='bold')\n",
        "plt.show()"
      ],
      "execution_count": 134,
      "outputs": [
        {
          "output_type": "display_data",
          "data": {
            "image/png": "[encoded data removed]",
            "text/plain": [
              "<Figure size 1080x576 with 1 Axes>"
            ]
          },
          "metadata": {
            "tags": [],
            "needs_background": "light"
          }
        }
      ]
    },
    {
      "cell_type": "code",
      "metadata": {
        "colab": {
          "base_uri": "https://localhost:8080/"
        },
        "id": "Fl_5yiCUWo8Z",
        "outputId": "0bfae9c9-5821-4787-bf7e-94d8b2f70349"
      },
      "source": [
        "print(f'{len(forest_importances)} variáveis no modelo')\n",
        "#print('\\n')\n",
        "print(f'{\"{:.2%}\".format(forest_importances.sort_values(ascending=False)[:16].sum())} concentrados nas 16 variáveis mais importantes.')\n",
        "print(f'{len(forest_importances[forest_importances == 0.0])} variáveis consideradas com importância ZERO')\n"
      ],
      "execution_count": 135,
      "outputs": [
        {
          "output_type": "stream",
          "text": [
            "106 variáveis no modelo\n",
            "50.75% concentrados nas 16 variáveis mais importantes.\n",
            "36 variáveis consideradas com importância ZERO\n"
          ],
          "name": "stdout"
        }
      ]
    },
    {
      "cell_type": "markdown",
      "metadata": {
        "id": "mWBITpr7UvRX"
      },
      "source": [
        "Considerando que tivemos mais de 100 variáveis para serem trabalhadas pelo modelo, se tivéssemos uma distribuição equilibrada de importância, cada uma deveria responder por algo em torno de 1% do resultado.\n",
        "\n",
        "Mas não é isso que podemos ver no gráfico acima. A variável mais importante passa de 7% em importância e, se somarmos as primeiras 16 variáveis já ultrapassamos os 50%.\n",
        "\n",
        "O modelo considera ainda que temos 36 variáveis com importância **ZERO** para obtenção dos resultados preditivos e poderiam ser retiradas de nossa base de dados, simplificando o modelo."
      ]
    },
    {
      "cell_type": "markdown",
      "metadata": {
        "id": "qGu8H-VRquHv"
      },
      "source": [
        "<a name='conclusao'></a>\n",
        "## **7. CONCLUSÃO e PRÓXIMOS PASSOS**\n",
        "---\n"
      ]
    },
    {
      "cell_type": "markdown",
      "metadata": {
        "id": "XKmxshBeaZfB"
      },
      "source": [
        "Voltando aos objetivos iniciais do estudo, vamos recuperar as duas tarefas propostas pelo desafio do HSL no Kaggle.\n",
        "\n",
        ">>**TAREFA 1:** Prever a internação em UTI de casos confirmados de **COVID-19**.\n",
        ">\n",
        ">Baseado nos dados disponíveis, é factível prever quais pacientes irão necessitar de internação na unidade de tratamento intensivo? O objetivo é disponibilizar ao hospital e parceiros respostas o mais acuradas possíveis para que os recursos de UTI sejam providenciados ou a transferência do paciente seja agendada.\n",
        "\n",
        ">>**TAREFA 2:** Prever a **NÃO** internação em UTI de casos confirmados de **COVID-19**.\n",
        ">\n",
        ">Baseado nos dados disponíveis, é factível prever quais pacientes irão necessitar de internação na unidade de tratamento intensivo? O objetivo é disponibilizar para hospitais locais e temporários uma resposta suficiente, para que médicos da linha de frente possam dispensar esses pacientes e fazer acompanhamento remoto de sua evolução.\n",
        "\n",
        "Baseado nos resultados do modelo final, acredito que tivemos um desempenho melhor na **TAREFA 1**, até porque, no meu entender, ela gera menos risco. **Explico:** a tarefa era para conseguir dimensionar a necessidade de UTIs e, de 115 casos em que seria necessária a internação, o modelo previu 94 (mais 2 falsos positivos). Teríamos a falta de 19 leitos.\n",
        "\n",
        "Já a **TAREFA 2**, que envolvia a possibilidade de liberação de pacientes para acompanhamento remoto, apresentou um erro menor (dos 256 casos liberados, 21 iriam precisar de UTI) mas que poderia se mostrar mais comprometedor a partir do momento que esses pacientes precisassem retornar ao hospital, já num estado mais avançado da doença.\n",
        "\n",
        "Concluído o estudo, acredito termos um modelo robusto o suficiente para avançarmos com os próximos passos.\n",
        "\n",
        "**PRÓXIMOS PASSOS:**\n",
        "\n",
        "Vejo que poderíamos prosseguir, a partir de agora, em duas frentes paralelas:\n",
        "\n",
        "1. Recuperar uma maior quantidade de dados do período que passou desde o lançamento do desafio e verificar se o modelo mantém a consistência ou se irá precisar de maiores ajustes.\n",
        "\n",
        "2. Revisar o modelo em relação a essas variáveis que foram desconsideradas na hora de fazer as classificações, pois a simplificação do modelo deve melhorar seu desempenho, pelo menos em termos de processamento."
      ]
    },
    {
      "cell_type": "code",
      "metadata": {
        "id": "UcltXhg7g1rI"
      },
      "source": [
        "import joblib\n",
        "\n",
        "filename = 'modelo_final_jl.sav'\n",
        "joblib.dump(mod_final, filename)\n",
        "\n",
        "dados_limpos_sem_corr.to_csv('dados_limpos_sem_corr.csv')\n",
        "forest_importances.to_excel('forest_importances.xlsx')"
      ],
      "execution_count": 136,
      "outputs": []
    },
    {
      "cell_type": "markdown",
      "metadata": {
        "id": "6Gj93oHCgvHt"
      },
      "source": [
        "<a name='docs'></a>\n",
        "## **8. REFERÊNCIAS e DOCUMENTAÇÃO**\n",
        "---\n",
        "\n",
        "* [Kaggle](https://www.kaggle.com)\n",
        "* [Flowing Data](https://flowingdata.com/2020/03/09/flatten-the-coronavirus-curve/?fbclid=IwAR3sG7Mkre45ZOQMH-xwWhKZzgRF6PJfydjezgPR8mS8BJ-DuwNqBHTjdUM)\n",
        "* [Notebooks do Bootcamp](https://github.com/gcochlar/Bootcamp_DataScience)\n",
        "* Sem esquecer todo o material disponibilizado pela Alura ao longo do Bootcamp\n",
        "\n",
        "&nbsp;\n",
        "\n",
        "**BIBLIOTECAS UTILIZADAS**\n",
        "\n",
        "* [Pandas](https://pandas.pydata.org/)\n",
        "* [Matplotlib](https://matplotlib.org/)\n",
        "* [NumPy](https://numpy.org/)\n",
        "* [SciPy](https://scipy.org/)\n",
        "* [SciKit-Learn](https://scikit-learn.org/stable/)\n",
        "* [Joblib](https://joblib.readthedocs.io/en/latest/)"
      ]
    },
    {
      "cell_type": "code",
      "metadata": {
        "id": "jjx-RWqYZ6Bk",
        "colab": {
          "base_uri": "https://localhost:8080/"
        },
        "outputId": "9b378091-2645-4a57-8e9d-e9278f17b2e7"
      },
      "source": [
        "import matplotlib\n",
        "import scipy\n",
        "import sklearn\n",
        "\n",
        "print('Versão do pandas -> %s' % pd.__version__)\n",
        "print('Versão do numpy -> %s' % np.__version__)\n",
        "print('Versão do matplotlib -> %s' % matplotlib.__version__)\n",
        "print('Versão do scipy -> %s' % scipy.__version__)\n",
        "print('Versão do sklearn -> %s' % sklearn.__version__)"
      ],
      "execution_count": 43,
      "outputs": [
        {
          "output_type": "stream",
          "text": [
            "Versão do pandas -> 1.1.5\n",
            "Versão do numpy -> 1.19.5\n",
            "Versão do matplotlib -> 3.4.2\n",
            "Versão do scipy -> 1.4.1\n",
            "Versão do sklearn -> 0.22.2.post1\n"
          ],
          "name": "stdout"
        }
      ]
    },
    {
      "cell_type": "code",
      "metadata": {
        "id": "8dNo7lcJYvGC"
      },
      "source": [
        "!pip freeze >requirements.txt"
      ],
      "execution_count": 44,
      "outputs": []
    }
  ]
}